{
 "cells": [
  {
   "cell_type": "markdown",
   "metadata": {},
   "source": [
    "## Fraud Detection\n",
    "#### A model that predicts whether a given transaction is fraudulent\n",
    "#### Unknown feature names\n",
    "    The model will be evaluated using the area under the ROC curve\n",
    "    ROC takes into consideration both True Positives (ideally 1) and False Negatives (ideally 0). As these are the metrics that are to be optimized (TP) and minimized (FP), the ROC is the most suitable metric. Had resampled data not be used, the ROC would not have been as effective. In this case, replace the x-axis (1 - specificity) with Precision (TP/ TP + FP), because precision does not include the number of True Negatives in its calculation, and is not affected by the imbalance.\n",
    "    \n",
    "    The desired metric for model selection and evaluation is recall ratio, which indicates the ratio of true positive. Thus, the ability of classifier to identify fraudulent transaction would be measured by performance in recall ratio and ROC."
   ]
  },
  {
   "cell_type": "code",
   "execution_count": 38,
   "metadata": {},
   "outputs": [],
   "source": [
    "import numpy as np\n",
    "import pandas as pd\n",
    "import matplotlib.pyplot as plt\n",
    "\n",
    "from sklearn.model_selection import train_test_split\n",
    "from imblearn.over_sampling import RandomOverSampler\n",
    "from sklearn.model_selection import cross_validate\n",
    "\n",
    "from sklearn.linear_model import LogisticRegression\n",
    "from sklearn.tree import DecisionTreeClassifier\n",
    "from sklearn.ensemble import RandomForestClassifier\n",
    "from xgboost import XGBClassifier\n",
    "from sklearn.ensemble import StackingClassifier\n",
    "\n",
    "from sklearn.pipeline import Pipeline\n",
    "from sklearn.model_selection import GridSearchCV\n",
    "from sklearn.pipeline import make_pipeline\n",
    "\n",
    "from sklearn.metrics import plot_roc_curve\n",
    "from sklearn.metrics import classification_report\n",
    "from sklearn.metrics import roc_auc_score\n",
    "from sklearn import metrics"
   ]
  },
  {
   "cell_type": "markdown",
   "metadata": {},
   "source": [
    "**Load Data**"
   ]
  },
  {
   "cell_type": "code",
   "execution_count": 40,
   "metadata": {
    "scrolled": false
   },
   "outputs": [
    {
     "data": {
      "text/html": [
       "<div>\n",
       "<style scoped>\n",
       "    .dataframe tbody tr th:only-of-type {\n",
       "        vertical-align: middle;\n",
       "    }\n",
       "\n",
       "    .dataframe tbody tr th {\n",
       "        vertical-align: top;\n",
       "    }\n",
       "\n",
       "    .dataframe thead th {\n",
       "        text-align: right;\n",
       "    }\n",
       "</style>\n",
       "<table border=\"1\" class=\"dataframe\">\n",
       "  <thead>\n",
       "    <tr style=\"text-align: right;\">\n",
       "      <th></th>\n",
       "      <th>x0</th>\n",
       "      <th>x1</th>\n",
       "      <th>x2</th>\n",
       "      <th>x3</th>\n",
       "      <th>x4</th>\n",
       "      <th>x5</th>\n",
       "      <th>x6</th>\n",
       "      <th>x7</th>\n",
       "      <th>x8</th>\n",
       "      <th>x9</th>\n",
       "      <th>...</th>\n",
       "      <th>x91</th>\n",
       "      <th>x92</th>\n",
       "      <th>x93</th>\n",
       "      <th>x94</th>\n",
       "      <th>x95</th>\n",
       "      <th>x96</th>\n",
       "      <th>x97</th>\n",
       "      <th>x98</th>\n",
       "      <th>x99</th>\n",
       "      <th>y</th>\n",
       "    </tr>\n",
       "  </thead>\n",
       "  <tbody>\n",
       "    <tr>\n",
       "      <th>0</th>\n",
       "      <td>-0.247824</td>\n",
       "      <td>6.425853</td>\n",
       "      <td>-6.485658</td>\n",
       "      <td>-8.241462</td>\n",
       "      <td>NaN</td>\n",
       "      <td>0.03%</td>\n",
       "      <td>Tuesday</td>\n",
       "      <td>-9.808905</td>\n",
       "      <td>4.753455</td>\n",
       "      <td>2.537819</td>\n",
       "      <td>...</td>\n",
       "      <td>0.592543</td>\n",
       "      <td>14.967527</td>\n",
       "      <td>6.691044</td>\n",
       "      <td>-0.275572</td>\n",
       "      <td>2.518542</td>\n",
       "      <td>4.637431</td>\n",
       "      <td>-14.296510</td>\n",
       "      <td>1.898115</td>\n",
       "      <td>-1.225228</td>\n",
       "      <td>0</td>\n",
       "    </tr>\n",
       "    <tr>\n",
       "      <th>1</th>\n",
       "      <td>2.623274</td>\n",
       "      <td>-2.808263</td>\n",
       "      <td>5.321746</td>\n",
       "      <td>-2.437653</td>\n",
       "      <td>0.614041</td>\n",
       "      <td>0.02%</td>\n",
       "      <td>Wednesday</td>\n",
       "      <td>10.710053</td>\n",
       "      <td>1.608882</td>\n",
       "      <td>-2.027541</td>\n",
       "      <td>...</td>\n",
       "      <td>-1.712788</td>\n",
       "      <td>-3.638637</td>\n",
       "      <td>-2.256492</td>\n",
       "      <td>2.703101</td>\n",
       "      <td>1.760729</td>\n",
       "      <td>2.660614</td>\n",
       "      <td>1.182922</td>\n",
       "      <td>-3.203078</td>\n",
       "      <td>0.711018</td>\n",
       "      <td>0</td>\n",
       "    </tr>\n",
       "    <tr>\n",
       "      <th>2</th>\n",
       "      <td>-5.460551</td>\n",
       "      <td>5.997701</td>\n",
       "      <td>-4.614194</td>\n",
       "      <td>-6.035128</td>\n",
       "      <td>-1.986438</td>\n",
       "      <td>-0.0%</td>\n",
       "      <td>Tuesday</td>\n",
       "      <td>-3.364649</td>\n",
       "      <td>-2.493473</td>\n",
       "      <td>1.429913</td>\n",
       "      <td>...</td>\n",
       "      <td>2.206956</td>\n",
       "      <td>7.292558</td>\n",
       "      <td>10.095556</td>\n",
       "      <td>1.601155</td>\n",
       "      <td>1.710645</td>\n",
       "      <td>-12.519434</td>\n",
       "      <td>-5.261707</td>\n",
       "      <td>2.032666</td>\n",
       "      <td>-6.445528</td>\n",
       "      <td>0</td>\n",
       "    </tr>\n",
       "    <tr>\n",
       "      <th>3</th>\n",
       "      <td>1.566307</td>\n",
       "      <td>-0.080517</td>\n",
       "      <td>0.064754</td>\n",
       "      <td>6.063193</td>\n",
       "      <td>-2.253075</td>\n",
       "      <td>0.0%</td>\n",
       "      <td>Thurday</td>\n",
       "      <td>-6.111982</td>\n",
       "      <td>-1.796377</td>\n",
       "      <td>-3.169510</td>\n",
       "      <td>...</td>\n",
       "      <td>-3.841669</td>\n",
       "      <td>5.189840</td>\n",
       "      <td>10.291069</td>\n",
       "      <td>-3.642396</td>\n",
       "      <td>0.674300</td>\n",
       "      <td>-1.104317</td>\n",
       "      <td>-3.922342</td>\n",
       "      <td>-0.613947</td>\n",
       "      <td>7.275179</td>\n",
       "      <td>0</td>\n",
       "    </tr>\n",
       "    <tr>\n",
       "      <th>4</th>\n",
       "      <td>0.750715</td>\n",
       "      <td>15.656095</td>\n",
       "      <td>-6.778600</td>\n",
       "      <td>11.251037</td>\n",
       "      <td>-0.308200</td>\n",
       "      <td>0.0%</td>\n",
       "      <td>Wednesday</td>\n",
       "      <td>2.498892</td>\n",
       "      <td>-0.323229</td>\n",
       "      <td>-2.624680</td>\n",
       "      <td>...</td>\n",
       "      <td>8.933781</td>\n",
       "      <td>-7.295794</td>\n",
       "      <td>-11.246059</td>\n",
       "      <td>-4.876594</td>\n",
       "      <td>3.395415</td>\n",
       "      <td>-2.646844</td>\n",
       "      <td>-5.273267</td>\n",
       "      <td>-5.259536</td>\n",
       "      <td>-3.240523</td>\n",
       "      <td>0</td>\n",
       "    </tr>\n",
       "    <tr>\n",
       "      <th>...</th>\n",
       "      <td>...</td>\n",
       "      <td>...</td>\n",
       "      <td>...</td>\n",
       "      <td>...</td>\n",
       "      <td>...</td>\n",
       "      <td>...</td>\n",
       "      <td>...</td>\n",
       "      <td>...</td>\n",
       "      <td>...</td>\n",
       "      <td>...</td>\n",
       "      <td>...</td>\n",
       "      <td>...</td>\n",
       "      <td>...</td>\n",
       "      <td>...</td>\n",
       "      <td>...</td>\n",
       "      <td>...</td>\n",
       "      <td>...</td>\n",
       "      <td>...</td>\n",
       "      <td>...</td>\n",
       "      <td>...</td>\n",
       "      <td>...</td>\n",
       "    </tr>\n",
       "    <tr>\n",
       "      <th>7995</th>\n",
       "      <td>-2.664967</td>\n",
       "      <td>-3.427965</td>\n",
       "      <td>-5.143886</td>\n",
       "      <td>0.289251</td>\n",
       "      <td>-3.202695</td>\n",
       "      <td>0.01%</td>\n",
       "      <td>Tuesday</td>\n",
       "      <td>-13.356218</td>\n",
       "      <td>0.244953</td>\n",
       "      <td>-2.524016</td>\n",
       "      <td>...</td>\n",
       "      <td>2.123462</td>\n",
       "      <td>6.139848</td>\n",
       "      <td>-4.323045</td>\n",
       "      <td>-6.453976</td>\n",
       "      <td>6.345870</td>\n",
       "      <td>6.482477</td>\n",
       "      <td>-11.562510</td>\n",
       "      <td>4.216840</td>\n",
       "      <td>5.689256</td>\n",
       "      <td>0</td>\n",
       "    </tr>\n",
       "    <tr>\n",
       "      <th>7996</th>\n",
       "      <td>2.174302</td>\n",
       "      <td>-4.912113</td>\n",
       "      <td>-4.803975</td>\n",
       "      <td>-22.081911</td>\n",
       "      <td>NaN</td>\n",
       "      <td>0.0%</td>\n",
       "      <td>Tuesday</td>\n",
       "      <td>-0.266593</td>\n",
       "      <td>-1.743051</td>\n",
       "      <td>5.870177</td>\n",
       "      <td>...</td>\n",
       "      <td>-12.307131</td>\n",
       "      <td>-4.762671</td>\n",
       "      <td>10.574798</td>\n",
       "      <td>-3.954958</td>\n",
       "      <td>0.998331</td>\n",
       "      <td>9.001036</td>\n",
       "      <td>1.171144</td>\n",
       "      <td>-1.001999</td>\n",
       "      <td>9.383899</td>\n",
       "      <td>0</td>\n",
       "    </tr>\n",
       "    <tr>\n",
       "      <th>7997</th>\n",
       "      <td>2.247079</td>\n",
       "      <td>-3.377818</td>\n",
       "      <td>-1.567924</td>\n",
       "      <td>-7.445187</td>\n",
       "      <td>-0.677291</td>\n",
       "      <td>-0.01%</td>\n",
       "      <td>Wednesday</td>\n",
       "      <td>6.618001</td>\n",
       "      <td>2.323299</td>\n",
       "      <td>3.724704</td>\n",
       "      <td>...</td>\n",
       "      <td>-8.084817</td>\n",
       "      <td>8.031024</td>\n",
       "      <td>7.282587</td>\n",
       "      <td>2.439789</td>\n",
       "      <td>1.666460</td>\n",
       "      <td>0.566402</td>\n",
       "      <td>3.591239</td>\n",
       "      <td>2.962485</td>\n",
       "      <td>0.980093</td>\n",
       "      <td>0</td>\n",
       "    </tr>\n",
       "    <tr>\n",
       "      <th>7998</th>\n",
       "      <td>-1.402385</td>\n",
       "      <td>-20.117766</td>\n",
       "      <td>3.705099</td>\n",
       "      <td>11.634801</td>\n",
       "      <td>0.680733</td>\n",
       "      <td>-0.0%</td>\n",
       "      <td>Tuesday</td>\n",
       "      <td>-4.304220</td>\n",
       "      <td>-1.730289</td>\n",
       "      <td>-12.788627</td>\n",
       "      <td>...</td>\n",
       "      <td>4.920424</td>\n",
       "      <td>-0.954106</td>\n",
       "      <td>6.261179</td>\n",
       "      <td>0.628781</td>\n",
       "      <td>-0.109908</td>\n",
       "      <td>2.086040</td>\n",
       "      <td>12.889705</td>\n",
       "      <td>7.359320</td>\n",
       "      <td>0.124861</td>\n",
       "      <td>0</td>\n",
       "    </tr>\n",
       "    <tr>\n",
       "      <th>7999</th>\n",
       "      <td>-5.761582</td>\n",
       "      <td>8.638806</td>\n",
       "      <td>8.391700</td>\n",
       "      <td>-6.474205</td>\n",
       "      <td>-1.642141</td>\n",
       "      <td>-0.02%</td>\n",
       "      <td>Tuesday</td>\n",
       "      <td>-14.284262</td>\n",
       "      <td>1.382704</td>\n",
       "      <td>3.687798</td>\n",
       "      <td>...</td>\n",
       "      <td>-4.721215</td>\n",
       "      <td>5.300117</td>\n",
       "      <td>-13.373868</td>\n",
       "      <td>1.450768</td>\n",
       "      <td>1.498209</td>\n",
       "      <td>6.701758</td>\n",
       "      <td>-2.233975</td>\n",
       "      <td>12.776734</td>\n",
       "      <td>0.565346</td>\n",
       "      <td>0</td>\n",
       "    </tr>\n",
       "  </tbody>\n",
       "</table>\n",
       "<p>8000 rows × 101 columns</p>\n",
       "</div>"
      ],
      "text/plain": [
       "            x0         x1        x2         x3        x4      x5         x6  \\\n",
       "0    -0.247824   6.425853 -6.485658  -8.241462       NaN   0.03%    Tuesday   \n",
       "1     2.623274  -2.808263  5.321746  -2.437653  0.614041   0.02%  Wednesday   \n",
       "2    -5.460551   5.997701 -4.614194  -6.035128 -1.986438   -0.0%    Tuesday   \n",
       "3     1.566307  -0.080517  0.064754   6.063193 -2.253075    0.0%    Thurday   \n",
       "4     0.750715  15.656095 -6.778600  11.251037 -0.308200    0.0%  Wednesday   \n",
       "...        ...        ...       ...        ...       ...     ...        ...   \n",
       "7995 -2.664967  -3.427965 -5.143886   0.289251 -3.202695   0.01%    Tuesday   \n",
       "7996  2.174302  -4.912113 -4.803975 -22.081911       NaN    0.0%    Tuesday   \n",
       "7997  2.247079  -3.377818 -1.567924  -7.445187 -0.677291  -0.01%  Wednesday   \n",
       "7998 -1.402385 -20.117766  3.705099  11.634801  0.680733   -0.0%    Tuesday   \n",
       "7999 -5.761582   8.638806  8.391700  -6.474205 -1.642141  -0.02%    Tuesday   \n",
       "\n",
       "             x7        x8         x9  ...        x91        x92        x93  \\\n",
       "0     -9.808905  4.753455   2.537819  ...   0.592543  14.967527   6.691044   \n",
       "1     10.710053  1.608882  -2.027541  ...  -1.712788  -3.638637  -2.256492   \n",
       "2     -3.364649 -2.493473   1.429913  ...   2.206956   7.292558  10.095556   \n",
       "3     -6.111982 -1.796377  -3.169510  ...  -3.841669   5.189840  10.291069   \n",
       "4      2.498892 -0.323229  -2.624680  ...   8.933781  -7.295794 -11.246059   \n",
       "...         ...       ...        ...  ...        ...        ...        ...   \n",
       "7995 -13.356218  0.244953  -2.524016  ...   2.123462   6.139848  -4.323045   \n",
       "7996  -0.266593 -1.743051   5.870177  ... -12.307131  -4.762671  10.574798   \n",
       "7997   6.618001  2.323299   3.724704  ...  -8.084817   8.031024   7.282587   \n",
       "7998  -4.304220 -1.730289 -12.788627  ...   4.920424  -0.954106   6.261179   \n",
       "7999 -14.284262  1.382704   3.687798  ...  -4.721215   5.300117 -13.373868   \n",
       "\n",
       "           x94       x95        x96        x97        x98       x99  y  \n",
       "0    -0.275572  2.518542   4.637431 -14.296510   1.898115 -1.225228  0  \n",
       "1     2.703101  1.760729   2.660614   1.182922  -3.203078  0.711018  0  \n",
       "2     1.601155  1.710645 -12.519434  -5.261707   2.032666 -6.445528  0  \n",
       "3    -3.642396  0.674300  -1.104317  -3.922342  -0.613947  7.275179  0  \n",
       "4    -4.876594  3.395415  -2.646844  -5.273267  -5.259536 -3.240523  0  \n",
       "...        ...       ...        ...        ...        ...       ... ..  \n",
       "7995 -6.453976  6.345870   6.482477 -11.562510   4.216840  5.689256  0  \n",
       "7996 -3.954958  0.998331   9.001036   1.171144  -1.001999  9.383899  0  \n",
       "7997  2.439789  1.666460   0.566402   3.591239   2.962485  0.980093  0  \n",
       "7998  0.628781 -0.109908   2.086040  12.889705   7.359320  0.124861  0  \n",
       "7999  1.450768  1.498209   6.701758  -2.233975  12.776734  0.565346  0  \n",
       "\n",
       "[8000 rows x 101 columns]"
      ]
     },
     "execution_count": 40,
     "metadata": {},
     "output_type": "execute_result"
    }
   ],
   "source": [
    "sample = pd.read_csv('D://Jessey//Desktop//sample.csv')\n",
    "sample"
   ]
  },
  {
   "cell_type": "code",
   "execution_count": 41,
   "metadata": {},
   "outputs": [
    {
     "data": {
      "text/html": [
       "<div>\n",
       "<style scoped>\n",
       "    .dataframe tbody tr th:only-of-type {\n",
       "        vertical-align: middle;\n",
       "    }\n",
       "\n",
       "    .dataframe tbody tr th {\n",
       "        vertical-align: top;\n",
       "    }\n",
       "\n",
       "    .dataframe thead th {\n",
       "        text-align: right;\n",
       "    }\n",
       "</style>\n",
       "<table border=\"1\" class=\"dataframe\">\n",
       "  <thead>\n",
       "    <tr style=\"text-align: right;\">\n",
       "      <th></th>\n",
       "      <th>x0</th>\n",
       "      <th>x1</th>\n",
       "      <th>x2</th>\n",
       "      <th>x3</th>\n",
       "      <th>x4</th>\n",
       "      <th>x5</th>\n",
       "      <th>x6</th>\n",
       "      <th>x7</th>\n",
       "      <th>x8</th>\n",
       "      <th>x9</th>\n",
       "      <th>...</th>\n",
       "      <th>x91</th>\n",
       "      <th>x92</th>\n",
       "      <th>x93</th>\n",
       "      <th>x94</th>\n",
       "      <th>x95</th>\n",
       "      <th>x96</th>\n",
       "      <th>x97</th>\n",
       "      <th>x98</th>\n",
       "      <th>x99</th>\n",
       "      <th>y</th>\n",
       "    </tr>\n",
       "  </thead>\n",
       "  <tbody>\n",
       "    <tr>\n",
       "      <th>23</th>\n",
       "      <td>-1.582122</td>\n",
       "      <td>14.950878</td>\n",
       "      <td>-5.975168</td>\n",
       "      <td>-24.924315</td>\n",
       "      <td>-2.170571</td>\n",
       "      <td>0.01%</td>\n",
       "      <td>Tuesday</td>\n",
       "      <td>4.424373</td>\n",
       "      <td>0.209202</td>\n",
       "      <td>-6.491850</td>\n",
       "      <td>...</td>\n",
       "      <td>-7.050792</td>\n",
       "      <td>-9.967707</td>\n",
       "      <td>5.744598</td>\n",
       "      <td>-4.698793</td>\n",
       "      <td>1.980553</td>\n",
       "      <td>4.170966</td>\n",
       "      <td>0.730302</td>\n",
       "      <td>-2.909570</td>\n",
       "      <td>-10.590043</td>\n",
       "      <td>1</td>\n",
       "    </tr>\n",
       "    <tr>\n",
       "      <th>28</th>\n",
       "      <td>2.188746</td>\n",
       "      <td>0.563793</td>\n",
       "      <td>12.725221</td>\n",
       "      <td>-4.107528</td>\n",
       "      <td>0.477985</td>\n",
       "      <td>0.01%</td>\n",
       "      <td>Wednesday</td>\n",
       "      <td>6.490210</td>\n",
       "      <td>-2.388224</td>\n",
       "      <td>1.869131</td>\n",
       "      <td>...</td>\n",
       "      <td>-4.644866</td>\n",
       "      <td>24.126628</td>\n",
       "      <td>1.360700</td>\n",
       "      <td>4.001760</td>\n",
       "      <td>1.888121</td>\n",
       "      <td>-0.118743</td>\n",
       "      <td>-6.242055</td>\n",
       "      <td>-2.676678</td>\n",
       "      <td>-1.218922</td>\n",
       "      <td>1</td>\n",
       "    </tr>\n",
       "    <tr>\n",
       "      <th>77</th>\n",
       "      <td>-1.086471</td>\n",
       "      <td>-2.729742</td>\n",
       "      <td>-6.028545</td>\n",
       "      <td>7.614471</td>\n",
       "      <td>-0.605442</td>\n",
       "      <td>0.01%</td>\n",
       "      <td>Thurday</td>\n",
       "      <td>-10.823303</td>\n",
       "      <td>-0.943962</td>\n",
       "      <td>-5.890023</td>\n",
       "      <td>...</td>\n",
       "      <td>4.966653</td>\n",
       "      <td>10.750593</td>\n",
       "      <td>10.420992</td>\n",
       "      <td>-7.444184</td>\n",
       "      <td>-5.609769</td>\n",
       "      <td>4.013456</td>\n",
       "      <td>-0.028463</td>\n",
       "      <td>4.482840</td>\n",
       "      <td>-17.090602</td>\n",
       "      <td>1</td>\n",
       "    </tr>\n",
       "    <tr>\n",
       "      <th>98</th>\n",
       "      <td>-1.565459</td>\n",
       "      <td>2.610581</td>\n",
       "      <td>10.282135</td>\n",
       "      <td>15.572457</td>\n",
       "      <td>-1.080135</td>\n",
       "      <td>-0.01%</td>\n",
       "      <td>Wednesday</td>\n",
       "      <td>-7.266203</td>\n",
       "      <td>-1.778145</td>\n",
       "      <td>0.778328</td>\n",
       "      <td>...</td>\n",
       "      <td>7.091654</td>\n",
       "      <td>-9.884330</td>\n",
       "      <td>-2.717783</td>\n",
       "      <td>0.869940</td>\n",
       "      <td>-0.244029</td>\n",
       "      <td>1.939866</td>\n",
       "      <td>-1.646229</td>\n",
       "      <td>-0.569443</td>\n",
       "      <td>-2.134166</td>\n",
       "      <td>1</td>\n",
       "    </tr>\n",
       "    <tr>\n",
       "      <th>102</th>\n",
       "      <td>-5.353437</td>\n",
       "      <td>17.070565</td>\n",
       "      <td>-0.586751</td>\n",
       "      <td>-9.194219</td>\n",
       "      <td>1.789374</td>\n",
       "      <td>-0.01%</td>\n",
       "      <td>Wednesday</td>\n",
       "      <td>3.710446</td>\n",
       "      <td>-1.139378</td>\n",
       "      <td>1.516376</td>\n",
       "      <td>...</td>\n",
       "      <td>5.368424</td>\n",
       "      <td>7.286388</td>\n",
       "      <td>7.802404</td>\n",
       "      <td>4.572457</td>\n",
       "      <td>-0.831698</td>\n",
       "      <td>-18.373443</td>\n",
       "      <td>6.949627</td>\n",
       "      <td>0.666733</td>\n",
       "      <td>-8.644061</td>\n",
       "      <td>1</td>\n",
       "    </tr>\n",
       "    <tr>\n",
       "      <th>...</th>\n",
       "      <td>...</td>\n",
       "      <td>...</td>\n",
       "      <td>...</td>\n",
       "      <td>...</td>\n",
       "      <td>...</td>\n",
       "      <td>...</td>\n",
       "      <td>...</td>\n",
       "      <td>...</td>\n",
       "      <td>...</td>\n",
       "      <td>...</td>\n",
       "      <td>...</td>\n",
       "      <td>...</td>\n",
       "      <td>...</td>\n",
       "      <td>...</td>\n",
       "      <td>...</td>\n",
       "      <td>...</td>\n",
       "      <td>...</td>\n",
       "      <td>...</td>\n",
       "      <td>...</td>\n",
       "      <td>...</td>\n",
       "      <td>...</td>\n",
       "    </tr>\n",
       "    <tr>\n",
       "      <th>7972</th>\n",
       "      <td>NaN</td>\n",
       "      <td>0.407311</td>\n",
       "      <td>0.677172</td>\n",
       "      <td>11.298661</td>\n",
       "      <td>0.310543</td>\n",
       "      <td>-0.01%</td>\n",
       "      <td>Wednesday</td>\n",
       "      <td>-10.862823</td>\n",
       "      <td>-2.161845</td>\n",
       "      <td>-5.895619</td>\n",
       "      <td>...</td>\n",
       "      <td>1.762727</td>\n",
       "      <td>-9.359971</td>\n",
       "      <td>-2.709964</td>\n",
       "      <td>7.020470</td>\n",
       "      <td>-3.658328</td>\n",
       "      <td>9.258640</td>\n",
       "      <td>-2.362314</td>\n",
       "      <td>1.068227</td>\n",
       "      <td>-1.991397</td>\n",
       "      <td>1</td>\n",
       "    </tr>\n",
       "    <tr>\n",
       "      <th>7977</th>\n",
       "      <td>-0.053082</td>\n",
       "      <td>4.649924</td>\n",
       "      <td>4.155413</td>\n",
       "      <td>8.532834</td>\n",
       "      <td>0.664992</td>\n",
       "      <td>0.01%</td>\n",
       "      <td>Wednesday</td>\n",
       "      <td>-1.478844</td>\n",
       "      <td>-0.889747</td>\n",
       "      <td>1.463910</td>\n",
       "      <td>...</td>\n",
       "      <td>6.188368</td>\n",
       "      <td>-7.225495</td>\n",
       "      <td>-14.509758</td>\n",
       "      <td>-0.352962</td>\n",
       "      <td>0.076488</td>\n",
       "      <td>2.675574</td>\n",
       "      <td>-11.994999</td>\n",
       "      <td>-2.071973</td>\n",
       "      <td>-0.871759</td>\n",
       "      <td>1</td>\n",
       "    </tr>\n",
       "    <tr>\n",
       "      <th>7980</th>\n",
       "      <td>2.236687</td>\n",
       "      <td>11.599733</td>\n",
       "      <td>2.529209</td>\n",
       "      <td>6.959733</td>\n",
       "      <td>0.370439</td>\n",
       "      <td>0.01%</td>\n",
       "      <td>Tuesday</td>\n",
       "      <td>-2.160740</td>\n",
       "      <td>-0.711607</td>\n",
       "      <td>-4.588757</td>\n",
       "      <td>...</td>\n",
       "      <td>-4.250002</td>\n",
       "      <td>2.430729</td>\n",
       "      <td>-5.989164</td>\n",
       "      <td>2.024963</td>\n",
       "      <td>-0.372693</td>\n",
       "      <td>-5.545353</td>\n",
       "      <td>4.186663</td>\n",
       "      <td>-4.513655</td>\n",
       "      <td>-6.183959</td>\n",
       "      <td>1</td>\n",
       "    </tr>\n",
       "    <tr>\n",
       "      <th>7983</th>\n",
       "      <td>-3.485648</td>\n",
       "      <td>2.833296</td>\n",
       "      <td>9.539867</td>\n",
       "      <td>7.604092</td>\n",
       "      <td>0.627461</td>\n",
       "      <td>0.01%</td>\n",
       "      <td>Tuesday</td>\n",
       "      <td>-2.022546</td>\n",
       "      <td>2.683785</td>\n",
       "      <td>-1.573812</td>\n",
       "      <td>...</td>\n",
       "      <td>0.897178</td>\n",
       "      <td>6.751905</td>\n",
       "      <td>-15.567607</td>\n",
       "      <td>-6.036208</td>\n",
       "      <td>-4.685870</td>\n",
       "      <td>-18.791414</td>\n",
       "      <td>NaN</td>\n",
       "      <td>2.985958</td>\n",
       "      <td>1.237103</td>\n",
       "      <td>1</td>\n",
       "    </tr>\n",
       "    <tr>\n",
       "      <th>7993</th>\n",
       "      <td>5.401297</td>\n",
       "      <td>6.726910</td>\n",
       "      <td>-8.663572</td>\n",
       "      <td>-4.604095</td>\n",
       "      <td>-0.729680</td>\n",
       "      <td>-0.0%</td>\n",
       "      <td>Wednesday</td>\n",
       "      <td>5.140332</td>\n",
       "      <td>1.148340</td>\n",
       "      <td>1.269889</td>\n",
       "      <td>...</td>\n",
       "      <td>1.700275</td>\n",
       "      <td>1.331198</td>\n",
       "      <td>1.670878</td>\n",
       "      <td>-8.961832</td>\n",
       "      <td>1.568926</td>\n",
       "      <td>-2.460644</td>\n",
       "      <td>-4.299459</td>\n",
       "      <td>-0.642565</td>\n",
       "      <td>7.307571</td>\n",
       "      <td>1</td>\n",
       "    </tr>\n",
       "  </tbody>\n",
       "</table>\n",
       "<p>439 rows × 101 columns</p>\n",
       "</div>"
      ],
      "text/plain": [
       "            x0         x1         x2         x3        x4      x5         x6  \\\n",
       "23   -1.582122  14.950878  -5.975168 -24.924315 -2.170571   0.01%    Tuesday   \n",
       "28    2.188746   0.563793  12.725221  -4.107528  0.477985   0.01%  Wednesday   \n",
       "77   -1.086471  -2.729742  -6.028545   7.614471 -0.605442   0.01%    Thurday   \n",
       "98   -1.565459   2.610581  10.282135  15.572457 -1.080135  -0.01%  Wednesday   \n",
       "102  -5.353437  17.070565  -0.586751  -9.194219  1.789374  -0.01%  Wednesday   \n",
       "...        ...        ...        ...        ...       ...     ...        ...   \n",
       "7972       NaN   0.407311   0.677172  11.298661  0.310543  -0.01%  Wednesday   \n",
       "7977 -0.053082   4.649924   4.155413   8.532834  0.664992   0.01%  Wednesday   \n",
       "7980  2.236687  11.599733   2.529209   6.959733  0.370439   0.01%    Tuesday   \n",
       "7983 -3.485648   2.833296   9.539867   7.604092  0.627461   0.01%    Tuesday   \n",
       "7993  5.401297   6.726910  -8.663572  -4.604095 -0.729680   -0.0%  Wednesday   \n",
       "\n",
       "             x7        x8        x9  ...       x91        x92        x93  \\\n",
       "23     4.424373  0.209202 -6.491850  ... -7.050792  -9.967707   5.744598   \n",
       "28     6.490210 -2.388224  1.869131  ... -4.644866  24.126628   1.360700   \n",
       "77   -10.823303 -0.943962 -5.890023  ...  4.966653  10.750593  10.420992   \n",
       "98    -7.266203 -1.778145  0.778328  ...  7.091654  -9.884330  -2.717783   \n",
       "102    3.710446 -1.139378  1.516376  ...  5.368424   7.286388   7.802404   \n",
       "...         ...       ...       ...  ...       ...        ...        ...   \n",
       "7972 -10.862823 -2.161845 -5.895619  ...  1.762727  -9.359971  -2.709964   \n",
       "7977  -1.478844 -0.889747  1.463910  ...  6.188368  -7.225495 -14.509758   \n",
       "7980  -2.160740 -0.711607 -4.588757  ... -4.250002   2.430729  -5.989164   \n",
       "7983  -2.022546  2.683785 -1.573812  ...  0.897178   6.751905 -15.567607   \n",
       "7993   5.140332  1.148340  1.269889  ...  1.700275   1.331198   1.670878   \n",
       "\n",
       "           x94       x95        x96        x97       x98        x99  y  \n",
       "23   -4.698793  1.980553   4.170966   0.730302 -2.909570 -10.590043  1  \n",
       "28    4.001760  1.888121  -0.118743  -6.242055 -2.676678  -1.218922  1  \n",
       "77   -7.444184 -5.609769   4.013456  -0.028463  4.482840 -17.090602  1  \n",
       "98    0.869940 -0.244029   1.939866  -1.646229 -0.569443  -2.134166  1  \n",
       "102   4.572457 -0.831698 -18.373443   6.949627  0.666733  -8.644061  1  \n",
       "...        ...       ...        ...        ...       ...        ... ..  \n",
       "7972  7.020470 -3.658328   9.258640  -2.362314  1.068227  -1.991397  1  \n",
       "7977 -0.352962  0.076488   2.675574 -11.994999 -2.071973  -0.871759  1  \n",
       "7980  2.024963 -0.372693  -5.545353   4.186663 -4.513655  -6.183959  1  \n",
       "7983 -6.036208 -4.685870 -18.791414        NaN  2.985958   1.237103  1  \n",
       "7993 -8.961832  1.568926  -2.460644  -4.299459 -0.642565   7.307571  1  \n",
       "\n",
       "[439 rows x 101 columns]"
      ]
     },
     "execution_count": 41,
     "metadata": {},
     "output_type": "execute_result"
    }
   ],
   "source": [
    "sample[sample['y']== 1]"
   ]
  },
  {
   "cell_type": "markdown",
   "metadata": {},
   "source": [
    "**According to 'y', labels of dataset is so imbalanced**"
   ]
  },
  {
   "cell_type": "code",
   "execution_count": 42,
   "metadata": {},
   "outputs": [],
   "source": [
    "label = sample['y']"
   ]
  },
  {
   "cell_type": "markdown",
   "metadata": {},
   "source": [
    "## 1. Explore Data Analysis"
   ]
  },
  {
   "cell_type": "code",
   "execution_count": 43,
   "metadata": {},
   "outputs": [
    {
     "data": {
      "text/plain": [
       "(8000, 101)"
      ]
     },
     "execution_count": 43,
     "metadata": {},
     "output_type": "execute_result"
    }
   ],
   "source": [
    "sample.shape"
   ]
  },
  {
   "cell_type": "code",
   "execution_count": 44,
   "metadata": {
    "scrolled": true
   },
   "outputs": [
    {
     "name": "stdout",
     "output_type": "stream",
     "text": [
      "<class 'pandas.core.frame.DataFrame'>\n",
      "RangeIndex: 8000 entries, 0 to 7999\n",
      "Columns: 101 entries, x0 to y\n",
      "dtypes: float64(94), int64(1), object(6)\n",
      "memory usage: 6.2+ MB\n"
     ]
    }
   ],
   "source": [
    "sample.info()"
   ]
  },
  {
   "cell_type": "markdown",
   "metadata": {},
   "source": [
    "**Observation**\n",
    "- There are 95 numerical columns.\n",
    "- There are 6 categorical columns."
   ]
  },
  {
   "cell_type": "markdown",
   "metadata": {},
   "source": [
    "**Check the object columns**"
   ]
  },
  {
   "cell_type": "code",
   "execution_count": 45,
   "metadata": {},
   "outputs": [
    {
     "data": {
      "text/plain": [
       "x5     object\n",
       "x6     object\n",
       "x20    object\n",
       "x27    object\n",
       "x49    object\n",
       "x57    object\n",
       "dtype: object"
      ]
     },
     "execution_count": 45,
     "metadata": {},
     "output_type": "execute_result"
    }
   ],
   "source": [
    "sample.dtypes[sample.dtypes=='object']"
   ]
  },
  {
   "cell_type": "code",
   "execution_count": 46,
   "metadata": {
    "scrolled": true
   },
   "outputs": [
    {
     "data": {
      "text/html": [
       "<div>\n",
       "<style scoped>\n",
       "    .dataframe tbody tr th:only-of-type {\n",
       "        vertical-align: middle;\n",
       "    }\n",
       "\n",
       "    .dataframe tbody tr th {\n",
       "        vertical-align: top;\n",
       "    }\n",
       "\n",
       "    .dataframe thead th {\n",
       "        text-align: right;\n",
       "    }\n",
       "</style>\n",
       "<table border=\"1\" class=\"dataframe\">\n",
       "  <thead>\n",
       "    <tr style=\"text-align: right;\">\n",
       "      <th></th>\n",
       "      <th>x5</th>\n",
       "      <th>x6</th>\n",
       "      <th>x20</th>\n",
       "      <th>x27</th>\n",
       "      <th>x49</th>\n",
       "      <th>x57</th>\n",
       "    </tr>\n",
       "  </thead>\n",
       "  <tbody>\n",
       "    <tr>\n",
       "      <th>0</th>\n",
       "      <td>0.03%</td>\n",
       "      <td>Tuesday</td>\n",
       "      <td>Aug</td>\n",
       "      <td>Afternoon</td>\n",
       "      <td>False</td>\n",
       "      <td>$1578.34</td>\n",
       "    </tr>\n",
       "    <tr>\n",
       "      <th>1</th>\n",
       "      <td>0.02%</td>\n",
       "      <td>Wednesday</td>\n",
       "      <td>Jul</td>\n",
       "      <td>Afternoon</td>\n",
       "      <td>False</td>\n",
       "      <td>$767.76</td>\n",
       "    </tr>\n",
       "    <tr>\n",
       "      <th>2</th>\n",
       "      <td>-0.0%</td>\n",
       "      <td>Tuesday</td>\n",
       "      <td>Aug</td>\n",
       "      <td>Evening</td>\n",
       "      <td>False</td>\n",
       "      <td>$931.06</td>\n",
       "    </tr>\n",
       "    <tr>\n",
       "      <th>3</th>\n",
       "      <td>0.0%</td>\n",
       "      <td>Thurday</td>\n",
       "      <td>Aug</td>\n",
       "      <td>Afternoon</td>\n",
       "      <td>True</td>\n",
       "      <td>$2124.52</td>\n",
       "    </tr>\n",
       "    <tr>\n",
       "      <th>4</th>\n",
       "      <td>0.0%</td>\n",
       "      <td>Wednesday</td>\n",
       "      <td>Jul</td>\n",
       "      <td>Evening</td>\n",
       "      <td>False</td>\n",
       "      <td>$-3055.67</td>\n",
       "    </tr>\n",
       "    <tr>\n",
       "      <th>...</th>\n",
       "      <td>...</td>\n",
       "      <td>...</td>\n",
       "      <td>...</td>\n",
       "      <td>...</td>\n",
       "      <td>...</td>\n",
       "      <td>...</td>\n",
       "    </tr>\n",
       "    <tr>\n",
       "      <th>7995</th>\n",
       "      <td>0.01%</td>\n",
       "      <td>Tuesday</td>\n",
       "      <td>Jun</td>\n",
       "      <td>Afternoon</td>\n",
       "      <td>False</td>\n",
       "      <td>$-1664.04</td>\n",
       "    </tr>\n",
       "    <tr>\n",
       "      <th>7996</th>\n",
       "      <td>0.0%</td>\n",
       "      <td>Tuesday</td>\n",
       "      <td>May</td>\n",
       "      <td>Afternoon</td>\n",
       "      <td>False</td>\n",
       "      <td>$-42.81</td>\n",
       "    </tr>\n",
       "    <tr>\n",
       "      <th>7997</th>\n",
       "      <td>-0.01%</td>\n",
       "      <td>Wednesday</td>\n",
       "      <td>Aug</td>\n",
       "      <td>Afternoon</td>\n",
       "      <td>True</td>\n",
       "      <td>$220.59</td>\n",
       "    </tr>\n",
       "    <tr>\n",
       "      <th>7998</th>\n",
       "      <td>-0.0%</td>\n",
       "      <td>Tuesday</td>\n",
       "      <td>Aug</td>\n",
       "      <td>Evening</td>\n",
       "      <td>True</td>\n",
       "      <td>$467.47</td>\n",
       "    </tr>\n",
       "    <tr>\n",
       "      <th>7999</th>\n",
       "      <td>-0.02%</td>\n",
       "      <td>Tuesday</td>\n",
       "      <td>Jun</td>\n",
       "      <td>Afternoon</td>\n",
       "      <td>False</td>\n",
       "      <td>$-598.35</td>\n",
       "    </tr>\n",
       "  </tbody>\n",
       "</table>\n",
       "<p>8000 rows × 6 columns</p>\n",
       "</div>"
      ],
      "text/plain": [
       "          x5         x6  x20        x27    x49        x57\n",
       "0      0.03%    Tuesday  Aug  Afternoon  False   $1578.34\n",
       "1      0.02%  Wednesday  Jul  Afternoon  False    $767.76\n",
       "2      -0.0%    Tuesday  Aug    Evening  False    $931.06\n",
       "3       0.0%    Thurday  Aug  Afternoon   True   $2124.52\n",
       "4       0.0%  Wednesday  Jul    Evening  False  $-3055.67\n",
       "...      ...        ...  ...        ...    ...        ...\n",
       "7995   0.01%    Tuesday  Jun  Afternoon  False  $-1664.04\n",
       "7996    0.0%    Tuesday  May  Afternoon  False    $-42.81\n",
       "7997  -0.01%  Wednesday  Aug  Afternoon   True    $220.59\n",
       "7998   -0.0%    Tuesday  Aug    Evening   True    $467.47\n",
       "7999  -0.02%    Tuesday  Jun  Afternoon  False   $-598.35\n",
       "\n",
       "[8000 rows x 6 columns]"
      ]
     },
     "execution_count": 46,
     "metadata": {},
     "output_type": "execute_result"
    }
   ],
   "source": [
    "sample[['x5','x6','x20','x27','x49','x57']]"
   ]
  },
  {
   "cell_type": "code",
   "execution_count": 47,
   "metadata": {
    "scrolled": true
   },
   "outputs": [
    {
     "data": {
      "text/plain": [
       "0.01%     1929\n",
       "-0.01%    1881\n",
       "0.0%      1531\n",
       "-0.0%     1514\n",
       "0.02%      479\n",
       "-0.02%     462\n",
       "-0.03%      60\n",
       "0.03%       48\n",
       "0.04%        1\n",
       "-0.04%       1\n",
       "Name: x5, dtype: int64"
      ]
     },
     "execution_count": 47,
     "metadata": {},
     "output_type": "execute_result"
    }
   ],
   "source": [
    "sample['x5'].value_counts()"
   ]
  },
  {
   "cell_type": "markdown",
   "metadata": {},
   "source": [
    "**Observation**\n",
    "- `Columns **x57**` is a dollar value columns. The '$' will be removed and the column will be converted to numerical continuious data.\n",
    " - `Columns **x5**` only contains serveral values from 0.04% to -0.04%. It will be handled first based on categorical data and then, converted to numerical. \n",
    " - For other columns, they will be treated as categorical values."
   ]
  },
  {
   "cell_type": "markdown",
   "metadata": {},
   "source": [
    "**Check the numerical columns**"
   ]
  },
  {
   "cell_type": "code",
   "execution_count": 48,
   "metadata": {
    "scrolled": true
   },
   "outputs": [
    {
     "data": {
      "text/html": [
       "<div>\n",
       "<style scoped>\n",
       "    .dataframe tbody tr th:only-of-type {\n",
       "        vertical-align: middle;\n",
       "    }\n",
       "\n",
       "    .dataframe tbody tr th {\n",
       "        vertical-align: top;\n",
       "    }\n",
       "\n",
       "    .dataframe thead th {\n",
       "        text-align: right;\n",
       "    }\n",
       "</style>\n",
       "<table border=\"1\" class=\"dataframe\">\n",
       "  <thead>\n",
       "    <tr style=\"text-align: right;\">\n",
       "      <th></th>\n",
       "      <th>x0</th>\n",
       "      <th>x1</th>\n",
       "      <th>x2</th>\n",
       "      <th>x3</th>\n",
       "      <th>x4</th>\n",
       "      <th>x7</th>\n",
       "      <th>x8</th>\n",
       "      <th>x9</th>\n",
       "      <th>x10</th>\n",
       "      <th>x11</th>\n",
       "      <th>...</th>\n",
       "      <th>x91</th>\n",
       "      <th>x92</th>\n",
       "      <th>x93</th>\n",
       "      <th>x94</th>\n",
       "      <th>x95</th>\n",
       "      <th>x96</th>\n",
       "      <th>x97</th>\n",
       "      <th>x98</th>\n",
       "      <th>x99</th>\n",
       "      <th>y</th>\n",
       "    </tr>\n",
       "  </thead>\n",
       "  <tbody>\n",
       "    <tr>\n",
       "      <th>count</th>\n",
       "      <td>7916.000000</td>\n",
       "      <td>7924.000000</td>\n",
       "      <td>7926.000000</td>\n",
       "      <td>7934.000000</td>\n",
       "      <td>7919.000000</td>\n",
       "      <td>7909.000000</td>\n",
       "      <td>7921.000000</td>\n",
       "      <td>7914.000000</td>\n",
       "      <td>7911.000000</td>\n",
       "      <td>7925.000000</td>\n",
       "      <td>...</td>\n",
       "      <td>7913.000000</td>\n",
       "      <td>7907.000000</td>\n",
       "      <td>7903.000000</td>\n",
       "      <td>7930.000000</td>\n",
       "      <td>7930.000000</td>\n",
       "      <td>7913.000000</td>\n",
       "      <td>7914.000000</td>\n",
       "      <td>7923.000000</td>\n",
       "      <td>7923.000000</td>\n",
       "      <td>8000.000000</td>\n",
       "    </tr>\n",
       "    <tr>\n",
       "      <th>mean</th>\n",
       "      <td>0.060228</td>\n",
       "      <td>0.407989</td>\n",
       "      <td>0.054322</td>\n",
       "      <td>-0.023308</td>\n",
       "      <td>-0.004516</td>\n",
       "      <td>0.005298</td>\n",
       "      <td>0.006460</td>\n",
       "      <td>0.054020</td>\n",
       "      <td>0.082194</td>\n",
       "      <td>-0.162486</td>\n",
       "      <td>...</td>\n",
       "      <td>-0.010624</td>\n",
       "      <td>-0.093474</td>\n",
       "      <td>0.062183</td>\n",
       "      <td>0.043515</td>\n",
       "      <td>0.555696</td>\n",
       "      <td>0.097914</td>\n",
       "      <td>-0.094866</td>\n",
       "      <td>-0.031607</td>\n",
       "      <td>-0.107921</td>\n",
       "      <td>0.054875</td>\n",
       "    </tr>\n",
       "    <tr>\n",
       "      <th>std</th>\n",
       "      <td>4.114402</td>\n",
       "      <td>14.047469</td>\n",
       "      <td>7.335695</td>\n",
       "      <td>8.744338</td>\n",
       "      <td>1.495770</td>\n",
       "      <td>7.825992</td>\n",
       "      <td>2.060713</td>\n",
       "      <td>4.808131</td>\n",
       "      <td>6.090958</td>\n",
       "      <td>9.637473</td>\n",
       "      <td>...</td>\n",
       "      <td>7.680308</td>\n",
       "      <td>9.936610</td>\n",
       "      <td>8.800644</td>\n",
       "      <td>4.431941</td>\n",
       "      <td>1.693398</td>\n",
       "      <td>7.904771</td>\n",
       "      <td>6.806242</td>\n",
       "      <td>6.272912</td>\n",
       "      <td>6.345949</td>\n",
       "      <td>0.227750</td>\n",
       "    </tr>\n",
       "    <tr>\n",
       "      <th>min</th>\n",
       "      <td>-18.252266</td>\n",
       "      <td>-42.459763</td>\n",
       "      <td>-27.966393</td>\n",
       "      <td>-31.413403</td>\n",
       "      <td>-5.185877</td>\n",
       "      <td>-30.006046</td>\n",
       "      <td>-9.744478</td>\n",
       "      <td>-17.118829</td>\n",
       "      <td>-23.412152</td>\n",
       "      <td>-36.495817</td>\n",
       "      <td>...</td>\n",
       "      <td>-27.810191</td>\n",
       "      <td>-33.876898</td>\n",
       "      <td>-30.762278</td>\n",
       "      <td>-16.942654</td>\n",
       "      <td>-6.503762</td>\n",
       "      <td>-28.708333</td>\n",
       "      <td>-27.631360</td>\n",
       "      <td>-22.814032</td>\n",
       "      <td>-24.159002</td>\n",
       "      <td>0.000000</td>\n",
       "    </tr>\n",
       "    <tr>\n",
       "      <th>25%</th>\n",
       "      <td>-2.708436</td>\n",
       "      <td>-9.746864</td>\n",
       "      <td>-5.018364</td>\n",
       "      <td>-5.904680</td>\n",
       "      <td>-1.001892</td>\n",
       "      <td>-5.332021</td>\n",
       "      <td>-1.388365</td>\n",
       "      <td>-3.206162</td>\n",
       "      <td>-3.979275</td>\n",
       "      <td>-6.673348</td>\n",
       "      <td>...</td>\n",
       "      <td>-5.113941</td>\n",
       "      <td>-6.814237</td>\n",
       "      <td>-5.947130</td>\n",
       "      <td>-2.927609</td>\n",
       "      <td>-0.526532</td>\n",
       "      <td>-5.396910</td>\n",
       "      <td>-4.492095</td>\n",
       "      <td>-4.199087</td>\n",
       "      <td>-4.362669</td>\n",
       "      <td>0.000000</td>\n",
       "    </tr>\n",
       "    <tr>\n",
       "      <th>50%</th>\n",
       "      <td>0.042683</td>\n",
       "      <td>-0.831805</td>\n",
       "      <td>0.008158</td>\n",
       "      <td>-0.036743</td>\n",
       "      <td>0.008718</td>\n",
       "      <td>-0.012167</td>\n",
       "      <td>-0.000204</td>\n",
       "      <td>0.127904</td>\n",
       "      <td>0.156267</td>\n",
       "      <td>-0.113515</td>\n",
       "      <td>...</td>\n",
       "      <td>0.042126</td>\n",
       "      <td>-0.237591</td>\n",
       "      <td>0.193627</td>\n",
       "      <td>0.054766</td>\n",
       "      <td>0.572391</td>\n",
       "      <td>0.110662</td>\n",
       "      <td>-0.051194</td>\n",
       "      <td>0.018044</td>\n",
       "      <td>-0.079668</td>\n",
       "      <td>0.000000</td>\n",
       "    </tr>\n",
       "    <tr>\n",
       "      <th>75%</th>\n",
       "      <td>2.870351</td>\n",
       "      <td>9.498792</td>\n",
       "      <td>4.911921</td>\n",
       "      <td>5.851433</td>\n",
       "      <td>0.987828</td>\n",
       "      <td>5.288608</td>\n",
       "      <td>1.337205</td>\n",
       "      <td>3.390917</td>\n",
       "      <td>4.180005</td>\n",
       "      <td>6.322518</td>\n",
       "      <td>...</td>\n",
       "      <td>5.200893</td>\n",
       "      <td>6.551684</td>\n",
       "      <td>6.163712</td>\n",
       "      <td>3.033703</td>\n",
       "      <td>1.701990</td>\n",
       "      <td>5.569025</td>\n",
       "      <td>4.509073</td>\n",
       "      <td>4.161221</td>\n",
       "      <td>4.231148</td>\n",
       "      <td>0.000000</td>\n",
       "    </tr>\n",
       "    <tr>\n",
       "      <th>max</th>\n",
       "      <td>16.464349</td>\n",
       "      <td>58.037828</td>\n",
       "      <td>27.964211</td>\n",
       "      <td>29.580564</td>\n",
       "      <td>6.404181</td>\n",
       "      <td>25.619078</td>\n",
       "      <td>7.797751</td>\n",
       "      <td>16.574194</td>\n",
       "      <td>20.708372</td>\n",
       "      <td>34.389640</td>\n",
       "      <td>...</td>\n",
       "      <td>29.811154</td>\n",
       "      <td>36.301709</td>\n",
       "      <td>29.069874</td>\n",
       "      <td>18.347966</td>\n",
       "      <td>6.474684</td>\n",
       "      <td>29.928906</td>\n",
       "      <td>24.533676</td>\n",
       "      <td>23.643567</td>\n",
       "      <td>23.816776</td>\n",
       "      <td>1.000000</td>\n",
       "    </tr>\n",
       "  </tbody>\n",
       "</table>\n",
       "<p>8 rows × 95 columns</p>\n",
       "</div>"
      ],
      "text/plain": [
       "                x0           x1           x2           x3           x4  \\\n",
       "count  7916.000000  7924.000000  7926.000000  7934.000000  7919.000000   \n",
       "mean      0.060228     0.407989     0.054322    -0.023308    -0.004516   \n",
       "std       4.114402    14.047469     7.335695     8.744338     1.495770   \n",
       "min     -18.252266   -42.459763   -27.966393   -31.413403    -5.185877   \n",
       "25%      -2.708436    -9.746864    -5.018364    -5.904680    -1.001892   \n",
       "50%       0.042683    -0.831805     0.008158    -0.036743     0.008718   \n",
       "75%       2.870351     9.498792     4.911921     5.851433     0.987828   \n",
       "max      16.464349    58.037828    27.964211    29.580564     6.404181   \n",
       "\n",
       "                x7           x8           x9          x10          x11  ...  \\\n",
       "count  7909.000000  7921.000000  7914.000000  7911.000000  7925.000000  ...   \n",
       "mean      0.005298     0.006460     0.054020     0.082194    -0.162486  ...   \n",
       "std       7.825992     2.060713     4.808131     6.090958     9.637473  ...   \n",
       "min     -30.006046    -9.744478   -17.118829   -23.412152   -36.495817  ...   \n",
       "25%      -5.332021    -1.388365    -3.206162    -3.979275    -6.673348  ...   \n",
       "50%      -0.012167    -0.000204     0.127904     0.156267    -0.113515  ...   \n",
       "75%       5.288608     1.337205     3.390917     4.180005     6.322518  ...   \n",
       "max      25.619078     7.797751    16.574194    20.708372    34.389640  ...   \n",
       "\n",
       "               x91          x92          x93          x94          x95  \\\n",
       "count  7913.000000  7907.000000  7903.000000  7930.000000  7930.000000   \n",
       "mean     -0.010624    -0.093474     0.062183     0.043515     0.555696   \n",
       "std       7.680308     9.936610     8.800644     4.431941     1.693398   \n",
       "min     -27.810191   -33.876898   -30.762278   -16.942654    -6.503762   \n",
       "25%      -5.113941    -6.814237    -5.947130    -2.927609    -0.526532   \n",
       "50%       0.042126    -0.237591     0.193627     0.054766     0.572391   \n",
       "75%       5.200893     6.551684     6.163712     3.033703     1.701990   \n",
       "max      29.811154    36.301709    29.069874    18.347966     6.474684   \n",
       "\n",
       "               x96          x97          x98          x99            y  \n",
       "count  7913.000000  7914.000000  7923.000000  7923.000000  8000.000000  \n",
       "mean      0.097914    -0.094866    -0.031607    -0.107921     0.054875  \n",
       "std       7.904771     6.806242     6.272912     6.345949     0.227750  \n",
       "min     -28.708333   -27.631360   -22.814032   -24.159002     0.000000  \n",
       "25%      -5.396910    -4.492095    -4.199087    -4.362669     0.000000  \n",
       "50%       0.110662    -0.051194     0.018044    -0.079668     0.000000  \n",
       "75%       5.569025     4.509073     4.161221     4.231148     0.000000  \n",
       "max      29.928906    24.533676    23.643567    23.816776     1.000000  \n",
       "\n",
       "[8 rows x 95 columns]"
      ]
     },
     "execution_count": 48,
     "metadata": {},
     "output_type": "execute_result"
    }
   ],
   "source": [
    "sample.drop(['x5','x6','x20','x27','x49','x57'],axis =1).describe()"
   ]
  },
  {
   "cell_type": "markdown",
   "metadata": {},
   "source": [
    "**Observation:**We can see these numerical columns, the value are well distributed around mean."
   ]
  },
  {
   "cell_type": "markdown",
   "metadata": {},
   "source": [
    "**Check Missing Value**"
   ]
  },
  {
   "cell_type": "code",
   "execution_count": 49,
   "metadata": {
    "scrolled": true
   },
   "outputs": [
    {
     "data": {
      "text/plain": [
       "x0     0.010500\n",
       "x1     0.009500\n",
       "x2     0.009250\n",
       "x3     0.008250\n",
       "x4     0.010125\n",
       "         ...   \n",
       "x96    0.010875\n",
       "x97    0.010750\n",
       "x98    0.009625\n",
       "x99    0.009625\n",
       "y      0.000000\n",
       "Length: 101, dtype: float64"
      ]
     },
     "execution_count": 49,
     "metadata": {},
     "output_type": "execute_result"
    }
   ],
   "source": [
    "sample.isnull().sum()/sample.isnull().count()"
   ]
  },
  {
   "cell_type": "code",
   "execution_count": 50,
   "metadata": {},
   "outputs": [
    {
     "data": {
      "text/plain": [
       "0.0125"
      ]
     },
     "execution_count": 50,
     "metadata": {},
     "output_type": "execute_result"
    }
   ],
   "source": [
    "(sample.isnull().sum()/sample.isnull().count()).max()"
   ]
  },
  {
   "cell_type": "code",
   "execution_count": 51,
   "metadata": {},
   "outputs": [
    {
     "data": {
      "text/plain": [
       "0"
      ]
     },
     "execution_count": 51,
     "metadata": {},
     "output_type": "execute_result"
    }
   ],
   "source": [
    "sample['y'].isnull().sum()"
   ]
  },
  {
   "cell_type": "code",
   "execution_count": 52,
   "metadata": {},
   "outputs": [
    {
     "data": {
      "text/plain": [
       "<AxesSubplot:>"
      ]
     },
     "execution_count": 52,
     "metadata": {},
     "output_type": "execute_result"
    },
    {
     "data": {
      "image/png": "[encoded data removed]",
      "text/plain": [
       "<Figure size 432x288 with 1 Axes>"
      ]
     },
     "metadata": {
      "needs_background": "light"
     },
     "output_type": "display_data"
    }
   ],
   "source": [
    "pd.DataFrame(sample.isnull().sum()).plot(kind = 'bar')"
   ]
  },
  {
   "cell_type": "markdown",
   "metadata": {},
   "source": [
    "**Obeservation**: \n",
    "1. The result length is 101, means except for label y, all columns have missing value. There for it is impossible to drop rows of missing value, it will drop all rows. \n",
    "\n",
    "2. But, the missing value of each column are not very much, the highest percentage missing value is only `1.25%`. And also, the missing value qty in each column are very close around 80 or 1%.\n",
    "\n",
    "3. There for will have fill empty fields with some value.\n",
    "\n",
    "**Decision:**  We are going to fill categorical with the most frequent value and the numerical fields with the mean."
   ]
  },
  {
   "cell_type": "markdown",
   "metadata": {},
   "source": [
    "## 2. Split Data"
   ]
  },
  {
   "cell_type": "markdown",
   "metadata": {},
   "source": [
    "There are 2 ways to split the data:\n",
    "1. Split the data in to train, validation and test data. \n",
    "      - pro: Avoid any data leakage.\n",
    "      - con: More complicated and take more time.\n",
    "2. Only split data into two parts: train and test.\n",
    "      - pro: easy and quick\n",
    "      - con: when fill the missing value with mean, this will cause data leakage when validate the model.\n",
    "\n",
    "**Decision:** we will use the second way. Also this may cause the data leakage, but only 1% data leakage of a column impact will slim on the entire model."
   ]
  },
  {
   "cell_type": "code",
   "execution_count": 53,
   "metadata": {},
   "outputs": [],
   "source": [
    "sample_train, sample_test, label_train, label_test = train_test_split(sample.drop(columns='y'), label, test_size=0.20, random_state=42)"
   ]
  },
  {
   "cell_type": "markdown",
   "metadata": {},
   "source": [
    "## 3. Data Wrangling\n",
    "\n",
    "*Both sample_train and sample_test will be handle together"
   ]
  },
  {
   "cell_type": "markdown",
   "metadata": {},
   "source": [
    "**3.1 Change column x57 into numerical**"
   ]
  },
  {
   "cell_type": "code",
   "execution_count": 54,
   "metadata": {
    "scrolled": true
   },
   "outputs": [],
   "source": [
    "datasets = [sample_train, sample_test]\n",
    "\n",
    "for d in datasets:\n",
    "    d['x57'] = d['x57'].str.lstrip('$').astype(float)\n",
    "    #d['x57'].str.split('$').str[1].astype('float') ##- alternative code"
   ]
  },
  {
   "cell_type": "markdown",
   "metadata": {},
   "source": [
    "**3.2 fill the categorical columns ('x5','x6','x20','x27','x49') with the most frequent value**"
   ]
  },
  {
   "cell_type": "code",
   "execution_count": 55,
   "metadata": {},
   "outputs": [],
   "source": [
    "datasets = [sample_train, sample_test]\n",
    "\n",
    "for d in datasets:\n",
    "    for cl in ['x5','x6','x20','x27','x49']:\n",
    "        d[cl]= d[cl].fillna(d[cl].mode()[0],axis=0)       "
   ]
  },
  {
   "cell_type": "markdown",
   "metadata": {},
   "source": [
    "**3.3 Convert 'x5' and 'x49' to Numerical**"
   ]
  },
  {
   "cell_type": "code",
   "execution_count": 56,
   "metadata": {
    "scrolled": false
   },
   "outputs": [],
   "source": [
    "datasets = [sample_train, sample_test]\n",
    "\n",
    "for d in datasets:\n",
    "    d['x5'] = d['x5'].str.rstrip('%').apply(float)/100"
   ]
  },
  {
   "cell_type": "code",
   "execution_count": 57,
   "metadata": {
    "scrolled": false
   },
   "outputs": [],
   "source": [
    "datasets = [sample_train, sample_test]\n",
    "\n",
    "for d in datasets:\n",
    "    d['x49'] = d['x49'].astype(int)"
   ]
  },
  {
   "cell_type": "markdown",
   "metadata": {},
   "source": [
    "**3.3 fill missing value in other numerical columns  with mean**"
   ]
  },
  {
   "cell_type": "code",
   "execution_count": 58,
   "metadata": {
    "scrolled": true
   },
   "outputs": [],
   "source": [
    "datasets = [sample_train, sample_test]\n",
    "cateforical_cols = ['x5','x6','x20','x27','x49']\n",
    "nuclist = list(sample_train.columns)\n",
    "for df in datasets:\n",
    "    for cl in nuclist:\n",
    "        if cl not in cateforical_cols:\n",
    "            df[cl] = df[cl].fillna(df[cl].mean(),axis=0)"
   ]
  },
  {
   "cell_type": "markdown",
   "metadata": {},
   "source": [
    "**Check missing values**"
   ]
  },
  {
   "cell_type": "code",
   "execution_count": 59,
   "metadata": {
    "scrolled": true
   },
   "outputs": [
    {
     "name": "stdout",
     "output_type": "stream",
     "text": [
      "0\n",
      "0\n"
     ]
    }
   ],
   "source": [
    "datasets = [sample_train, sample_test]\n",
    "\n",
    "for df in datasets:\n",
    "    print(df.isnull().sum().sum())"
   ]
  },
  {
   "cell_type": "markdown",
   "metadata": {},
   "source": [
    "The missing value in columns has been filled"
   ]
  },
  {
   "cell_type": "markdown",
   "metadata": {},
   "source": [
    "**3.4 Enclode Categorical features and Get X_train,X_test**"
   ]
  },
  {
   "cell_type": "code",
   "execution_count": 60,
   "metadata": {},
   "outputs": [],
   "source": [
    "X_train = pd.get_dummies(sample_train, drop_first=True)\n",
    "X_test = pd.get_dummies(sample_test, drop_first=True)"
   ]
  },
  {
   "cell_type": "code",
   "execution_count": 61,
   "metadata": {},
   "outputs": [],
   "source": [
    "y_train = label_train\n",
    "y_test = label_test"
   ]
  },
  {
   "cell_type": "code",
   "execution_count": 62,
   "metadata": {},
   "outputs": [
    {
     "name": "stdout",
     "output_type": "stream",
     "text": [
      "<class 'pandas.core.frame.DataFrame'>\n",
      "Int64Index: 6400 entries, 1467 to 7270\n",
      "Columns: 115 entries, x0 to x27_Night\n",
      "dtypes: float64(96), int32(1), uint8(18)\n",
      "memory usage: 4.9 MB\n",
      "<class 'pandas.core.frame.DataFrame'>\n",
      "Int64Index: 1600 entries, 2215 to 6832\n",
      "Columns: 115 entries, x0 to x27_Night\n",
      "dtypes: float64(96), int32(1), uint8(18)\n",
      "memory usage: 1.2 MB\n",
      "None None\n"
     ]
    }
   ],
   "source": [
    "print(X_train.info(),X_test.info())"
   ]
  },
  {
   "cell_type": "code",
   "execution_count": 63,
   "metadata": {},
   "outputs": [
    {
     "data": {
      "text/plain": [
       "1467     Jun\n",
       "5768     Jul\n",
       "5714    Sept\n",
       "1578     May\n",
       "6958     Aug\n",
       "        ... \n",
       "5226     Jun\n",
       "5390     May\n",
       "860      Aug\n",
       "7603     Jun\n",
       "7270     Aug\n",
       "Name: x20, Length: 6400, dtype: object"
      ]
     },
     "execution_count": 63,
     "metadata": {},
     "output_type": "execute_result"
    }
   ],
   "source": [
    "sample_train['x20']"
   ]
  },
  {
   "cell_type": "code",
   "execution_count": 64,
   "metadata": {},
   "outputs": [
    {
     "data": {
      "text/plain": [
       "['x6_Monday',\n",
       " 'x6_Thurday',\n",
       " 'x6_Tuesday',\n",
       " 'x6_Wednesday',\n",
       " 'x20_Aug',\n",
       " 'x20_Dec',\n",
       " 'x20_Feb',\n",
       " 'x20_Jan',\n",
       " 'x20_Jul',\n",
       " 'x20_Jun',\n",
       " 'x20_Mar',\n",
       " 'x20_May',\n",
       " 'x20_Nov',\n",
       " 'x20_Oct',\n",
       " 'x20_Sept',\n",
       " 'x27_Evening',\n",
       " 'x27_Morning',\n",
       " 'x27_Night']"
      ]
     },
     "execution_count": 64,
     "metadata": {},
     "output_type": "execute_result"
    }
   ],
   "source": [
    "list(X_train.columns)[97:]"
   ]
  },
  {
   "cell_type": "markdown",
   "metadata": {},
   "source": [
    "## 4. Baseline Model"
   ]
  },
  {
   "cell_type": "markdown",
   "metadata": {},
   "source": [
    "#### 4.1 Imbalance Handling"
   ]
  },
  {
   "cell_type": "markdown",
   "metadata": {},
   "source": [
    "Let's check the value distribution of y:"
   ]
  },
  {
   "cell_type": "code",
   "execution_count": 65,
   "metadata": {
    "scrolled": true
   },
   "outputs": [
    {
     "data": {
      "text/plain": [
       "<AxesSubplot:>"
      ]
     },
     "execution_count": 65,
     "metadata": {},
     "output_type": "execute_result"
    },
    {
     "data": {
      "image/png": "[encoded data removed]",
      "text/plain": [
       "<Figure size 432x288 with 1 Axes>"
      ]
     },
     "metadata": {
      "needs_background": "light"
     },
     "output_type": "display_data"
    }
   ],
   "source": [
    "y_train.value_counts().plot(kind = 'bar')"
   ]
  },
  {
   "cell_type": "markdown",
   "metadata": {},
   "source": [
    "- **Observation** The y value is distrubted very imbalanced.\n",
    "- **Decision** Imbalanced data handling is needed."
   ]
  },
  {
   "cell_type": "code",
   "execution_count": 66,
   "metadata": {},
   "outputs": [
    {
     "name": "stdout",
     "output_type": "stream",
     "text": [
      "(12080, 115) (12080,) (3042, 115) (3042,)\n"
     ]
    },
    {
     "data": {
      "text/plain": [
       "1    6040\n",
       "0    6040\n",
       "Name: y, dtype: int64"
      ]
     },
     "execution_count": 66,
     "metadata": {},
     "output_type": "execute_result"
    }
   ],
   "source": [
    "ros = RandomOverSampler(random_state=42)\n",
    "\n",
    "X_train_resampled, y_train_resampled = ros.fit_resample(X_train, y_train)\n",
    "X_test_resampled, y_test_resampled = ros.fit_resample(X_test, y_test)\n",
    "print(X_train_resampled.shape, y_train_resampled.shape,X_test_resampled.shape, y_test_resampled.shape)\n",
    "pd.Series(y_train_resampled).value_counts()"
   ]
  },
  {
   "cell_type": "markdown",
   "metadata": {},
   "source": [
    "#### 4.2 Baseline Model\n",
    "\n",
    "Since this is a fault detect system, we focus on the accuracy of detecting the fault case -- False Negative. Therefore the `recall` metric is very important in addtion to ROC."
   ]
  },
  {
   "cell_type": "code",
   "execution_count": 68,
   "metadata": {
    "scrolled": true
   },
   "outputs": [
    {
     "name": "stderr",
     "output_type": "stream",
     "text": [
      "C:\\Users\\Jessey\\AppData\\Roaming\\Python\\Python37\\site-packages\\sklearn\\linear_model\\_logistic.py:764: ConvergenceWarning: lbfgs failed to converge (status=1):\n",
      "STOP: TOTAL NO. of ITERATIONS REACHED LIMIT.\n",
      "\n",
      "Increase the number of iterations (max_iter) or scale the data as shown in:\n",
      "    https://scikit-learn.org/stable/modules/preprocessing.html\n",
      "Please also refer to the documentation for alternative solver options:\n",
      "    https://scikit-learn.org/stable/modules/linear_model.html#logistic-regression\n",
      "  extra_warning_msg=_LOGISTIC_SOLVER_CONVERGENCE_MSG)\n"
     ]
    }
   ],
   "source": [
    "basemodel = LogisticRegression()\n",
    "basemodel.fit(X_train_resampled,y_train_resampled)\n",
    "y_pred_resampled = basemodel.predict(X_test_resampled)"
   ]
  },
  {
   "cell_type": "code",
   "execution_count": 69,
   "metadata": {
    "scrolled": false
   },
   "outputs": [
    {
     "name": "stdout",
     "output_type": "stream",
     "text": [
      "              precision    recall  f1-score   support\n",
      "\n",
      "           0       0.74      0.77      0.76      1521\n",
      "           1       0.76      0.73      0.75      1521\n",
      "\n",
      "    accuracy                           0.75      3042\n",
      "   macro avg       0.75      0.75      0.75      3042\n",
      "weighted avg       0.75      0.75      0.75      3042\n",
      "\n"
     ]
    }
   ],
   "source": [
    "print(classification_report(y_test_resampled,y_pred_resampled))"
   ]
  },
  {
   "cell_type": "markdown",
   "metadata": {},
   "source": [
    "**Observation**\n",
    "- The **recall** score of baseline model is: **0.73**"
   ]
  },
  {
   "cell_type": "code",
   "execution_count": 70,
   "metadata": {
    "scrolled": false
   },
   "outputs": [
    {
     "data": {
      "text/plain": [
       "<sklearn.metrics._plot.roc_curve.RocCurveDisplay at 0x23c2207ef48>"
      ]
     },
     "execution_count": 70,
     "metadata": {},
     "output_type": "execute_result"
    },
    {
     "data": {
      "image/png": "[encoded data removed]",
      "text/plain": [
       "<Figure size 432x288 with 1 Axes>"
      ]
     },
     "metadata": {
      "needs_background": "light"
     },
     "output_type": "display_data"
    }
   ],
   "source": [
    "plot_roc_curve(basemodel, X_test_resampled,y_test_resampled)"
   ]
  },
  {
   "cell_type": "code",
   "execution_count": 71,
   "metadata": {},
   "outputs": [
    {
     "data": {
      "text/plain": [
       "0.7508218277449046"
      ]
     },
     "execution_count": 71,
     "metadata": {},
     "output_type": "execute_result"
    }
   ],
   "source": [
    "roc_auc_score(y_test_resampled,y_pred_resampled)"
   ]
  },
  {
   "cell_type": "markdown",
   "metadata": {},
   "source": [
    "**Have not figure out why roc_auc_score makes different scores compared to AUC in the plot, but we use lower values as our AUC**"
   ]
  },
  {
   "cell_type": "markdown",
   "metadata": {},
   "source": [
    "**Observation**\n",
    "- The **recall** score of baseline model is: **0.73**\n",
    "- The **AUC of ROC** baseline model is: **0.75**\n",
    "\n",
    "We will start from this point to create model pipeliness"
   ]
  },
  {
   "cell_type": "markdown",
   "metadata": {},
   "source": [
    " "
   ]
  },
  {
   "cell_type": "markdown",
   "metadata": {},
   "source": [
    "## 5. Models' Pipeline"
   ]
  },
  {
   "cell_type": "markdown",
   "metadata": {},
   "source": [
    "We will first create model pipelineS based on sigle models since the bank is requiring a fast model for daily live operations, and normally a single machine learning model is faster than stacking models. "
   ]
  },
  {
   "cell_type": "markdown",
   "metadata": {},
   "source": [
    "#### 5.1 LogisticRegression"
   ]
  },
  {
   "cell_type": "markdown",
   "metadata": {},
   "source": [
    "we have already done the model in baseline model, now we are using pipeline and GridSearch to fine tune the model."
   ]
  },
  {
   "cell_type": "code",
   "execution_count": 73,
   "metadata": {
    "scrolled": true
   },
   "outputs": [
    {
     "name": "stderr",
     "output_type": "stream",
     "text": [
      "C:\\Users\\Jessey\\AppData\\Roaming\\Python\\Python37\\site-packages\\sklearn\\linear_model\\_logistic.py:764: ConvergenceWarning: lbfgs failed to converge (status=1):\n",
      "STOP: TOTAL NO. of ITERATIONS REACHED LIMIT.\n",
      "\n",
      "Increase the number of iterations (max_iter) or scale the data as shown in:\n",
      "    https://scikit-learn.org/stable/modules/preprocessing.html\n",
      "Please also refer to the documentation for alternative solver options:\n",
      "    https://scikit-learn.org/stable/modules/linear_model.html#logistic-regression\n",
      "  extra_warning_msg=_LOGISTIC_SOLVER_CONVERGENCE_MSG)\n",
      "C:\\Users\\Jessey\\AppData\\Roaming\\Python\\Python37\\site-packages\\sklearn\\linear_model\\_logistic.py:764: ConvergenceWarning: lbfgs failed to converge (status=1):\n",
      "STOP: TOTAL NO. of ITERATIONS REACHED LIMIT.\n",
      "\n",
      "Increase the number of iterations (max_iter) or scale the data as shown in:\n",
      "    https://scikit-learn.org/stable/modules/preprocessing.html\n",
      "Please also refer to the documentation for alternative solver options:\n",
      "    https://scikit-learn.org/stable/modules/linear_model.html#logistic-regression\n",
      "  extra_warning_msg=_LOGISTIC_SOLVER_CONVERGENCE_MSG)\n",
      "C:\\Users\\Jessey\\AppData\\Roaming\\Python\\Python37\\site-packages\\sklearn\\linear_model\\_logistic.py:764: ConvergenceWarning: lbfgs failed to converge (status=1):\n",
      "STOP: TOTAL NO. of ITERATIONS REACHED LIMIT.\n",
      "\n",
      "Increase the number of iterations (max_iter) or scale the data as shown in:\n",
      "    https://scikit-learn.org/stable/modules/preprocessing.html\n",
      "Please also refer to the documentation for alternative solver options:\n",
      "    https://scikit-learn.org/stable/modules/linear_model.html#logistic-regression\n",
      "  extra_warning_msg=_LOGISTIC_SOLVER_CONVERGENCE_MSG)\n",
      "C:\\Users\\Jessey\\AppData\\Roaming\\Python\\Python37\\site-packages\\sklearn\\linear_model\\_logistic.py:764: ConvergenceWarning: lbfgs failed to converge (status=1):\n",
      "STOP: TOTAL NO. of ITERATIONS REACHED LIMIT.\n",
      "\n",
      "Increase the number of iterations (max_iter) or scale the data as shown in:\n",
      "    https://scikit-learn.org/stable/modules/preprocessing.html\n",
      "Please also refer to the documentation for alternative solver options:\n",
      "    https://scikit-learn.org/stable/modules/linear_model.html#logistic-regression\n",
      "  extra_warning_msg=_LOGISTIC_SOLVER_CONVERGENCE_MSG)\n",
      "C:\\Users\\Jessey\\AppData\\Roaming\\Python\\Python37\\site-packages\\sklearn\\linear_model\\_logistic.py:764: ConvergenceWarning: lbfgs failed to converge (status=1):\n",
      "STOP: TOTAL NO. of ITERATIONS REACHED LIMIT.\n",
      "\n",
      "Increase the number of iterations (max_iter) or scale the data as shown in:\n",
      "    https://scikit-learn.org/stable/modules/preprocessing.html\n",
      "Please also refer to the documentation for alternative solver options:\n",
      "    https://scikit-learn.org/stable/modules/linear_model.html#logistic-regression\n",
      "  extra_warning_msg=_LOGISTIC_SOLVER_CONVERGENCE_MSG)\n",
      "C:\\Users\\Jessey\\AppData\\Roaming\\Python\\Python37\\site-packages\\sklearn\\linear_model\\_logistic.py:764: ConvergenceWarning: lbfgs failed to converge (status=1):\n",
      "STOP: TOTAL NO. of ITERATIONS REACHED LIMIT.\n",
      "\n",
      "Increase the number of iterations (max_iter) or scale the data as shown in:\n",
      "    https://scikit-learn.org/stable/modules/preprocessing.html\n",
      "Please also refer to the documentation for alternative solver options:\n",
      "    https://scikit-learn.org/stable/modules/linear_model.html#logistic-regression\n",
      "  extra_warning_msg=_LOGISTIC_SOLVER_CONVERGENCE_MSG)\n",
      "C:\\Users\\Jessey\\AppData\\Roaming\\Python\\Python37\\site-packages\\sklearn\\linear_model\\_logistic.py:764: ConvergenceWarning: lbfgs failed to converge (status=1):\n",
      "STOP: TOTAL NO. of ITERATIONS REACHED LIMIT.\n",
      "\n",
      "Increase the number of iterations (max_iter) or scale the data as shown in:\n",
      "    https://scikit-learn.org/stable/modules/preprocessing.html\n",
      "Please also refer to the documentation for alternative solver options:\n",
      "    https://scikit-learn.org/stable/modules/linear_model.html#logistic-regression\n",
      "  extra_warning_msg=_LOGISTIC_SOLVER_CONVERGENCE_MSG)\n",
      "C:\\Users\\Jessey\\AppData\\Roaming\\Python\\Python37\\site-packages\\sklearn\\linear_model\\_logistic.py:764: ConvergenceWarning: lbfgs failed to converge (status=1):\n",
      "STOP: TOTAL NO. of ITERATIONS REACHED LIMIT.\n",
      "\n",
      "Increase the number of iterations (max_iter) or scale the data as shown in:\n",
      "    https://scikit-learn.org/stable/modules/preprocessing.html\n",
      "Please also refer to the documentation for alternative solver options:\n",
      "    https://scikit-learn.org/stable/modules/linear_model.html#logistic-regression\n",
      "  extra_warning_msg=_LOGISTIC_SOLVER_CONVERGENCE_MSG)\n",
      "C:\\Users\\Jessey\\AppData\\Roaming\\Python\\Python37\\site-packages\\sklearn\\linear_model\\_logistic.py:764: ConvergenceWarning: lbfgs failed to converge (status=1):\n",
      "STOP: TOTAL NO. of ITERATIONS REACHED LIMIT.\n",
      "\n",
      "Increase the number of iterations (max_iter) or scale the data as shown in:\n",
      "    https://scikit-learn.org/stable/modules/preprocessing.html\n",
      "Please also refer to the documentation for alternative solver options:\n",
      "    https://scikit-learn.org/stable/modules/linear_model.html#logistic-regression\n",
      "  extra_warning_msg=_LOGISTIC_SOLVER_CONVERGENCE_MSG)\n",
      "C:\\Users\\Jessey\\AppData\\Roaming\\Python\\Python37\\site-packages\\sklearn\\linear_model\\_logistic.py:764: ConvergenceWarning: lbfgs failed to converge (status=1):\n",
      "STOP: TOTAL NO. of ITERATIONS REACHED LIMIT.\n",
      "\n",
      "Increase the number of iterations (max_iter) or scale the data as shown in:\n",
      "    https://scikit-learn.org/stable/modules/preprocessing.html\n",
      "Please also refer to the documentation for alternative solver options:\n",
      "    https://scikit-learn.org/stable/modules/linear_model.html#logistic-regression\n",
      "  extra_warning_msg=_LOGISTIC_SOLVER_CONVERGENCE_MSG)\n",
      "C:\\Users\\Jessey\\AppData\\Roaming\\Python\\Python37\\site-packages\\sklearn\\linear_model\\_logistic.py:764: ConvergenceWarning: lbfgs failed to converge (status=1):\n",
      "STOP: TOTAL NO. of ITERATIONS REACHED LIMIT.\n",
      "\n",
      "Increase the number of iterations (max_iter) or scale the data as shown in:\n",
      "    https://scikit-learn.org/stable/modules/preprocessing.html\n",
      "Please also refer to the documentation for alternative solver options:\n",
      "    https://scikit-learn.org/stable/modules/linear_model.html#logistic-regression\n",
      "  extra_warning_msg=_LOGISTIC_SOLVER_CONVERGENCE_MSG)\n"
     ]
    },
    {
     "name": "stdout",
     "output_type": "stream",
     "text": [
      "Pipeline(steps=[('standardscaler', StandardScaler()),\n",
      "                ('logisticregression',\n",
      "                 LogisticRegression(C=21.544346900318832, random_state=42))])\n"
     ]
    }
   ],
   "source": [
    "from sklearn.pipeline import Pipeline\n",
    "from sklearn.model_selection import GridSearchCV\n",
    "from sklearn.pipeline import make_pipeline\n",
    "from sklearn.preprocessing import StandardScaler\n",
    "grid_param = [{\"logisticregression__C\": np.logspace(0, 4, 10),\n",
    "              \"logisticregression__random_state\":[42]}]\n",
    "\n",
    "gridsearch = GridSearchCV(make_pipeline(StandardScaler(), LogisticRegression()),grid_param,cv=5,verbose=0)\n",
    "\n",
    "lr = gridsearch.fit(X_train_resampled,y_train_resampled)\n",
    "\n",
    "\n",
    "print(lr.best_estimator_)\n",
    "\n"
   ]
  },
  {
   "cell_type": "markdown",
   "metadata": {},
   "source": [
    "**The best model of LogisticRegression** "
   ]
  },
  {
   "cell_type": "markdown",
   "metadata": {},
   "source": [
    "The recall and ROC are:"
   ]
  },
  {
   "cell_type": "code",
   "execution_count": 74,
   "metadata": {
    "scrolled": true
   },
   "outputs": [
    {
     "name": "stdout",
     "output_type": "stream",
     "text": [
      "              precision    recall  f1-score   support\n",
      "\n",
      "           0       0.74      0.76      0.75      1521\n",
      "           1       0.76      0.73      0.74      1521\n",
      "\n",
      "    accuracy                           0.75      3042\n",
      "   macro avg       0.75      0.75      0.75      3042\n",
      "weighted avg       0.75      0.75      0.75      3042\n",
      "\n"
     ]
    }
   ],
   "source": [
    "y_lr_pred_resampled = lr.predict(X_test_resampled)\n",
    "print(classification_report(y_test_resampled,y_lr_pred_resampled))"
   ]
  },
  {
   "cell_type": "code",
   "execution_count": 75,
   "metadata": {},
   "outputs": [
    {
     "data": {
      "text/plain": [
       "<sklearn.metrics._plot.roc_curve.RocCurveDisplay at 0x23c2207e9c8>"
      ]
     },
     "execution_count": 75,
     "metadata": {},
     "output_type": "execute_result"
    },
    {
     "data": {
      "image/png": "[encoded data removed]",
      "text/plain": [
       "<Figure size 432x288 with 1 Axes>"
      ]
     },
     "metadata": {
      "needs_background": "light"
     },
     "output_type": "display_data"
    }
   ],
   "source": [
    "plot_roc_curve(lr,X_test_resampled,y_test_resampled)"
   ]
  },
  {
   "cell_type": "code",
   "execution_count": 76,
   "metadata": {},
   "outputs": [
    {
     "data": {
      "text/plain": [
       "0.7458908612754768"
      ]
     },
     "execution_count": 76,
     "metadata": {},
     "output_type": "execute_result"
    }
   ],
   "source": [
    "roc_auc_score(y_test_resampled,y_lr_pred_resampled)"
   ]
  },
  {
   "cell_type": "markdown",
   "metadata": {},
   "source": [
    "\n",
    "**LogisticRegression Conclusion**\n",
    "\n",
    "- The `recall` score is 0.73;\n",
    "- The `roc_auc_score` is 0.745;"
   ]
  },
  {
   "cell_type": "markdown",
   "metadata": {},
   "source": [
    "#### 5.2 RandomForest"
   ]
  },
  {
   "cell_type": "code",
   "execution_count": 438,
   "metadata": {},
   "outputs": [
    {
     "name": "stdout",
     "output_type": "stream",
     "text": [
      "RandomForestClassifier(max_depth=8, max_leaf_nodes=10, min_samples_leaf=10,\n",
      "                       n_estimators=50)\n"
     ]
    }
   ],
   "source": [
    "grid_param = [{\"n_estimators\": [10,50,100],\n",
    "               \"max_depth\":[5,8,15,30,None],\n",
    "               \"min_samples_leaf\":[1,2,5,10,15],\n",
    "               \"max_leaf_nodes\": [2, 5,10]}]\n",
    "\n",
    "gridsearch = GridSearchCV(RandomForestClassifier(),grid_param,cv=5,verbose=0, n_jobs = -1)\n",
    "\n",
    "best_model_rf = gridsearch.fit(X_train_resampled,y_train_resampled)\n",
    "\n",
    "\n",
    "print(best_model_rf.best_estimator_)\n"
   ]
  },
  {
   "cell_type": "markdown",
   "metadata": {},
   "source": [
    "**The best model of RadomForest**"
   ]
  },
  {
   "cell_type": "markdown",
   "metadata": {},
   "source": [
    "The recall and ROC are:"
   ]
  },
  {
   "cell_type": "code",
   "execution_count": 471,
   "metadata": {},
   "outputs": [
    {
     "name": "stdout",
     "output_type": "stream",
     "text": [
      "              precision    recall  f1-score   support\n",
      "\n",
      "           0       0.79      0.80      0.80      1521\n",
      "           1       0.80      0.79      0.79      1521\n",
      "\n",
      "    accuracy                           0.79      3042\n",
      "   macro avg       0.79      0.79      0.79      3042\n",
      "weighted avg       0.79      0.79      0.79      3042\n",
      "\n"
     ]
    }
   ],
   "source": [
    "y_rf_pred_resampled = best_model_rf.predict(X_test_resampled)\n",
    "print(classification_report(y_test_resampled,y_rf_pred_resampled))"
   ]
  },
  {
   "cell_type": "code",
   "execution_count": 472,
   "metadata": {},
   "outputs": [
    {
     "data": {
      "text/plain": [
       "<sklearn.metrics._plot.roc_curve.RocCurveDisplay at 0x7fcf7af50d10>"
      ]
     },
     "execution_count": 472,
     "metadata": {},
     "output_type": "execute_result"
    },
    {
     "data": {
      "image/png": "[encoded data removed]",
      "text/plain": [
       "<Figure size 432x288 with 1 Axes>"
      ]
     },
     "metadata": {
      "needs_background": "light"
     },
     "output_type": "display_data"
    }
   ],
   "source": [
    "plot_roc_curve(best_model_rf,X_test_resampled,y_test_resampled)"
   ]
  },
  {
   "cell_type": "code",
   "execution_count": 473,
   "metadata": {},
   "outputs": [
    {
     "data": {
      "text/plain": [
       "0.794543063773833"
      ]
     },
     "execution_count": 473,
     "metadata": {},
     "output_type": "execute_result"
    }
   ],
   "source": [
    "roc_auc_score(y_test_resampled,y_rf_pred_resampled)"
   ]
  },
  {
   "cell_type": "markdown",
   "metadata": {},
   "source": [
    "**RandomForest Conclusion**\n",
    "\n",
    "- The `recall` score is 0.79;\n",
    "- The `roc_auc_score` is 0.79;"
   ]
  },
  {
   "cell_type": "markdown",
   "metadata": {},
   "source": [
    "#### 5.3 XGBClassifier"
   ]
  },
  {
   "cell_type": "code",
   "execution_count": 474,
   "metadata": {},
   "outputs": [
    {
     "name": "stdout",
     "output_type": "stream",
     "text": [
      "Pipeline(steps=[('scalar1', StandardScaler()),\n",
      "                ('classifier',\n",
      "                 XGBClassifier(base_score=0.5, booster='gbtree',\n",
      "                               colsample_bylevel=1, colsample_bynode=1,\n",
      "                               colsample_bytree=0.6, gamma=0.5, gpu_id=-1,\n",
      "                               importance_type='gain',\n",
      "                               interaction_constraints='',\n",
      "                               learning_rate=0.300000012, max_delta_step=0,\n",
      "                               max_depth=5, min_child_weight=1, missing=nan,\n",
      "                               monotone_constraints='()', n_estimators=100,\n",
      "                               n_jobs=0, num_parallel_tree=1, random_state=0,\n",
      "                               reg_alpha=0, reg_lambda=1, scale_pos_weight=1,\n",
      "                               subsample=0.6, tree_method='exact',\n",
      "                               validate_parameters=1, verbosity=None))])\n"
     ]
    }
   ],
   "source": [
    "pipe = Pipeline([('scalar1',StandardScaler()),(\"classifier\", XGBClassifier())])\n",
    "\n",
    "estimators = [('xgb', XGBClassifier())]\n",
    "\n",
    "grid_param = {'classifier__min_child_weight': [1, 5, 10],\n",
    "              'classifier__gamma': [0.5, 1, 1.5, 2, 5],\n",
    "              'classifier__subsample': [0.6, 0.8, 1.0],\n",
    "              'classifier__colsample_bytree': [0.6, 0.8, 1.0],\n",
    "              'classifier__max_depth': [3, 4, 5]\n",
    "              }\n",
    "\n",
    "\n",
    "gridsearch = GridSearchCV(pipe,grid_param,cv=5,verbose=0)\n",
    "\n",
    "xgb = gridsearch.fit(X_train_resampled,y_train_resampled)\n",
    "\n",
    "\n",
    "print(xgb.best_estimator_)\n"
   ]
  },
  {
   "cell_type": "markdown",
   "metadata": {},
   "source": [
    "**The best model of XGBoost** `ROC socre` and `recall`"
   ]
  },
  {
   "cell_type": "markdown",
   "metadata": {},
   "source": [
    "The recall and ROC are:"
   ]
  },
  {
   "cell_type": "code",
   "execution_count": 475,
   "metadata": {},
   "outputs": [
    {
     "name": "stdout",
     "output_type": "stream",
     "text": [
      "              precision    recall  f1-score   support\n",
      "\n",
      "           0       0.72      0.99      0.84      1521\n",
      "           1       0.98      0.62      0.76      1521\n",
      "\n",
      "    accuracy                           0.81      3042\n",
      "   macro avg       0.85      0.81      0.80      3042\n",
      "weighted avg       0.85      0.81      0.80      3042\n",
      "\n"
     ]
    }
   ],
   "source": [
    "y_xgb_pred_resampled = xgb.predict(X_test_resampled)\n",
    "print(classification_report(y_test_resampled,y_xgb_pred_resampled))"
   ]
  },
  {
   "cell_type": "code",
   "execution_count": 476,
   "metadata": {},
   "outputs": [
    {
     "data": {
      "text/plain": [
       "<sklearn.metrics._plot.roc_curve.RocCurveDisplay at 0x7fcf7af802d0>"
      ]
     },
     "execution_count": 476,
     "metadata": {},
     "output_type": "execute_result"
    },
    {
     "data": {
      "image/png": "[encoded data removed]",
      "text/plain": [
       "<Figure size 432x288 with 1 Axes>"
      ]
     },
     "metadata": {
      "needs_background": "light"
     },
     "output_type": "display_data"
    }
   ],
   "source": [
    "plot_roc_curve(xgb,X_test_resampled,y_test_resampled)"
   ]
  },
  {
   "cell_type": "code",
   "execution_count": 477,
   "metadata": {},
   "outputs": [
    {
     "data": {
      "text/plain": [
       "0.8057199211045365"
      ]
     },
     "execution_count": 477,
     "metadata": {},
     "output_type": "execute_result"
    }
   ],
   "source": [
    "roc_auc_score(y_test_resampled,y_xgb_pred_resampled)"
   ]
  },
  {
   "cell_type": "markdown",
   "metadata": {},
   "source": [
    "**XGBoost Conclusion**\n",
    "\n",
    "- The `recall` score is 0.62;\n",
    "- The `roc_auc_score` is 0.81;"
   ]
  },
  {
   "cell_type": "markdown",
   "metadata": {},
   "source": [
    "**Decision Tree (this model is added personally)- finding that DecisionTree model does not perform well**"
   ]
  },
  {
   "cell_type": "code",
   "execution_count": 78,
   "metadata": {},
   "outputs": [
    {
     "name": "stdout",
     "output_type": "stream",
     "text": [
      "Pipeline(steps=[('scalar1', StandardScaler()),\n",
      "                ('classifier',\n",
      "                 DecisionTreeClassifier(max_depth=40, min_samples_split=6))])\n"
     ]
    }
   ],
   "source": [
    "pipe = Pipeline([('scalar1',StandardScaler()),('classifier', DecisionTreeClassifier())])\n",
    "\n",
    "grid_param = {'classifier__criterion': ['gini','entrophy'],\n",
    "              'classifier__max_depth': [5,10,15,20,30,40],\n",
    "              'classifier__min_samples_split': [1,2,3,4,5,6,7],\n",
    "              'classifier__min_samples_leaf':[1,2,3,4,5,6,7,8,9]\n",
    "             }\n",
    "gridsearch = GridSearchCV(pipe,grid_param,cv=5,verbose=0,n_jobs=-1)\n",
    "best_model_dt = gridsearch.fit(X_train_resampled,y_train_resampled)\n",
    "print(best_model_dt.best_estimator_)"
   ]
  },
  {
   "cell_type": "code",
   "execution_count": 79,
   "metadata": {},
   "outputs": [
    {
     "name": "stdout",
     "output_type": "stream",
     "text": [
      "              precision    recall  f1-score   support\n",
      "\n",
      "           0       0.61      0.96      0.75      1521\n",
      "           1       0.91      0.38      0.54      1521\n",
      "\n",
      "    accuracy                           0.67      3042\n",
      "   macro avg       0.76      0.67      0.64      3042\n",
      "weighted avg       0.76      0.67      0.64      3042\n",
      "\n"
     ]
    }
   ],
   "source": [
    "y_pred_sampled = best_model_dt.predict(X_test_resampled)\n",
    "print(classification_report(y_test_resampled,y_pred_sampled))"
   ]
  },
  {
   "cell_type": "code",
   "execution_count": 87,
   "metadata": {},
   "outputs": [
    {
     "data": {
      "text/plain": [
       "<sklearn.metrics._plot.roc_curve.RocCurveDisplay at 0x23c22178dc8>"
      ]
     },
     "execution_count": 87,
     "metadata": {},
     "output_type": "execute_result"
    },
    {
     "data": {
      "image/png": "[encoded data removed]",
      "text/plain": [
       "<Figure size 432x288 with 1 Axes>"
      ]
     },
     "metadata": {
      "needs_background": "light"
     },
     "output_type": "display_data"
    }
   ],
   "source": [
    "plot_roc_curve(best_model_dt, X_test_resampled,y_test_resampled)"
   ]
  },
  {
   "cell_type": "code",
   "execution_count": 88,
   "metadata": {},
   "outputs": [
    {
     "data": {
      "text/plain": [
       "0.6738987508218277"
      ]
     },
     "execution_count": 88,
     "metadata": {},
     "output_type": "execute_result"
    }
   ],
   "source": [
    "roc_auc_score(y_test_resampled,y_pred_sampled)"
   ]
  },
  {
   "cell_type": "markdown",
   "metadata": {},
   "source": [
    "**DecisionTree Conclusion**\n",
    "\n",
    "- The `recall` score is 0.38;\n",
    "- The `roc_auc_score` is 0.67;"
   ]
  },
  {
   "cell_type": "markdown",
   "metadata": {},
   "source": [
    "#### 5.4 Stacking Model - I do not add Decision Tree model to here becasue either its recall or ROC score are good. In order to have better score, we stack 3 models."
   ]
  },
  {
   "cell_type": "markdown",
   "metadata": {},
   "source": [
    "We collect the previous 3 best estimators together and stack them to get a mixed model, see the result."
   ]
  },
  {
   "cell_type": "code",
   "execution_count": 489,
   "metadata": {},
   "outputs": [],
   "source": [
    "estimators = [\n",
    "    ('lr', LogisticRegression(C=21.544346900318832, random_state=42)),\n",
    "    ('rf', RandomForestClassifier(max_depth=8, max_leaf_nodes=10, min_samples_leaf=10,\n",
    "                       n_estimators=50)),\n",
    "    ('xb', XGBClassifier(base_score=0.5, booster='gbtree',\n",
    "                               colsample_bylevel=1, colsample_bynode=1,\n",
    "                               colsample_bytree=0.6, gamma=0.5, gpu_id=-1,\n",
    "                               importance_type='gain',\n",
    "                               interaction_constraints='',\n",
    "                               learning_rate=0.300000012, max_delta_step=0,\n",
    "                               max_depth=5, min_child_weight=1,\n",
    "                               monotone_constraints='()', n_estimators=100,\n",
    "                               n_jobs=0, num_parallel_tree=1, random_state=0,\n",
    "                               reg_alpha=0, reg_lambda=1, scale_pos_weight=1,\n",
    "                               subsample=0.6, tree_method='exact',\n",
    "                               validate_parameters=1, verbosity=None)),\n",
    "\n",
    "    \n",
    "]\n",
    "\n",
    "st_model = StackingClassifier(\n",
    "    estimators=estimators, final_estimator=RandomForestClassifier()\n",
    ")"
   ]
  },
  {
   "cell_type": "code",
   "execution_count": 490,
   "metadata": {
    "scrolled": true
   },
   "outputs": [
    {
     "name": "stderr",
     "output_type": "stream",
     "text": [
      "/Users/Ericzheng/opt/anaconda3/lib/python3.7/site-packages/sklearn/linear_model/_logistic.py:764: ConvergenceWarning: lbfgs failed to converge (status=1):\n",
      "STOP: TOTAL NO. of ITERATIONS REACHED LIMIT.\n",
      "\n",
      "Increase the number of iterations (max_iter) or scale the data as shown in:\n",
      "    https://scikit-learn.org/stable/modules/preprocessing.html\n",
      "Please also refer to the documentation for alternative solver options:\n",
      "    https://scikit-learn.org/stable/modules/linear_model.html#logistic-regression\n",
      "  extra_warning_msg=_LOGISTIC_SOLVER_CONVERGENCE_MSG)\n",
      "/Users/Ericzheng/opt/anaconda3/lib/python3.7/site-packages/sklearn/linear_model/_logistic.py:764: ConvergenceWarning: lbfgs failed to converge (status=1):\n",
      "STOP: TOTAL NO. of ITERATIONS REACHED LIMIT.\n",
      "\n",
      "Increase the number of iterations (max_iter) or scale the data as shown in:\n",
      "    https://scikit-learn.org/stable/modules/preprocessing.html\n",
      "Please also refer to the documentation for alternative solver options:\n",
      "    https://scikit-learn.org/stable/modules/linear_model.html#logistic-regression\n",
      "  extra_warning_msg=_LOGISTIC_SOLVER_CONVERGENCE_MSG)\n",
      "/Users/Ericzheng/opt/anaconda3/lib/python3.7/site-packages/sklearn/linear_model/_logistic.py:764: ConvergenceWarning: lbfgs failed to converge (status=1):\n",
      "STOP: TOTAL NO. of ITERATIONS REACHED LIMIT.\n",
      "\n",
      "Increase the number of iterations (max_iter) or scale the data as shown in:\n",
      "    https://scikit-learn.org/stable/modules/preprocessing.html\n",
      "Please also refer to the documentation for alternative solver options:\n",
      "    https://scikit-learn.org/stable/modules/linear_model.html#logistic-regression\n",
      "  extra_warning_msg=_LOGISTIC_SOLVER_CONVERGENCE_MSG)\n",
      "/Users/Ericzheng/opt/anaconda3/lib/python3.7/site-packages/sklearn/linear_model/_logistic.py:764: ConvergenceWarning: lbfgs failed to converge (status=1):\n",
      "STOP: TOTAL NO. of ITERATIONS REACHED LIMIT.\n",
      "\n",
      "Increase the number of iterations (max_iter) or scale the data as shown in:\n",
      "    https://scikit-learn.org/stable/modules/preprocessing.html\n",
      "Please also refer to the documentation for alternative solver options:\n",
      "    https://scikit-learn.org/stable/modules/linear_model.html#logistic-regression\n",
      "  extra_warning_msg=_LOGISTIC_SOLVER_CONVERGENCE_MSG)\n",
      "/Users/Ericzheng/opt/anaconda3/lib/python3.7/site-packages/sklearn/linear_model/_logistic.py:764: ConvergenceWarning: lbfgs failed to converge (status=1):\n",
      "STOP: TOTAL NO. of ITERATIONS REACHED LIMIT.\n",
      "\n",
      "Increase the number of iterations (max_iter) or scale the data as shown in:\n",
      "    https://scikit-learn.org/stable/modules/preprocessing.html\n",
      "Please also refer to the documentation for alternative solver options:\n",
      "    https://scikit-learn.org/stable/modules/linear_model.html#logistic-regression\n",
      "  extra_warning_msg=_LOGISTIC_SOLVER_CONVERGENCE_MSG)\n",
      "/Users/Ericzheng/opt/anaconda3/lib/python3.7/site-packages/sklearn/linear_model/_logistic.py:764: ConvergenceWarning: lbfgs failed to converge (status=1):\n",
      "STOP: TOTAL NO. of ITERATIONS REACHED LIMIT.\n",
      "\n",
      "Increase the number of iterations (max_iter) or scale the data as shown in:\n",
      "    https://scikit-learn.org/stable/modules/preprocessing.html\n",
      "Please also refer to the documentation for alternative solver options:\n",
      "    https://scikit-learn.org/stable/modules/linear_model.html#logistic-regression\n",
      "  extra_warning_msg=_LOGISTIC_SOLVER_CONVERGENCE_MSG)\n"
     ]
    },
    {
     "data": {
      "text/plain": [
       "StackingClassifier(estimators=[('lr',\n",
       "                                LogisticRegression(C=21.544346900318832,\n",
       "                                                   random_state=42)),\n",
       "                               ('rf',\n",
       "                                RandomForestClassifier(max_depth=8,\n",
       "                                                       max_leaf_nodes=10,\n",
       "                                                       min_samples_leaf=10,\n",
       "                                                       n_estimators=50)),\n",
       "                               ('xb',\n",
       "                                XGBClassifier(base_score=0.5, booster='gbtree',\n",
       "                                              colsample_bylevel=1,\n",
       "                                              colsample_bynode=1,\n",
       "                                              colsample_bytree=0.6, gamma=0.5,\n",
       "                                              gpu_id=-1, importance_type='gain',\n",
       "                                              int...on_constraints='',\n",
       "                                              learning_rate=0.300000012,\n",
       "                                              max_delta_step=0, max_depth=5,\n",
       "                                              min_child_weight=1, missing=nan,\n",
       "                                              monotone_constraints='()',\n",
       "                                              n_estimators=100, n_jobs=0,\n",
       "                                              num_parallel_tree=1,\n",
       "                                              random_state=0, reg_alpha=0,\n",
       "                                              reg_lambda=1, scale_pos_weight=1,\n",
       "                                              subsample=0.6,\n",
       "                                              tree_method='exact',\n",
       "                                              validate_parameters=1,\n",
       "                                              verbosity=None))],\n",
       "                   final_estimator=RandomForestClassifier())"
      ]
     },
     "execution_count": 490,
     "metadata": {},
     "output_type": "execute_result"
    }
   ],
   "source": [
    "st_model.fit(X_train_resampled,y_train_resampled)"
   ]
  },
  {
   "cell_type": "code",
   "execution_count": 491,
   "metadata": {},
   "outputs": [
    {
     "name": "stdout",
     "output_type": "stream",
     "text": [
      "              precision    recall  f1-score   support\n",
      "\n",
      "           0       0.58      1.00      0.74      1521\n",
      "           1       1.00      0.28      0.44      1521\n",
      "\n",
      "    accuracy                           0.64      3042\n",
      "   macro avg       0.79      0.64      0.59      3042\n",
      "weighted avg       0.79      0.64      0.59      3042\n",
      "\n"
     ]
    }
   ],
   "source": [
    "y_st_pred_resampled = st_model.predict(X_test_resampled)\n",
    "print(classification_report(y_test_resampled,y_st_pred_resampled))"
   ]
  },
  {
   "cell_type": "code",
   "execution_count": 492,
   "metadata": {
    "scrolled": true
   },
   "outputs": [
    {
     "data": {
      "text/plain": [
       "<sklearn.metrics._plot.roc_curve.RocCurveDisplay at 0x7fcf7c644650>"
      ]
     },
     "execution_count": 492,
     "metadata": {},
     "output_type": "execute_result"
    },
    {
     "data": {
      "image/png": "[encoded data removed]",
      "text/plain": [
       "<Figure size 432x288 with 1 Axes>"
      ]
     },
     "metadata": {
      "needs_background": "light"
     },
     "output_type": "display_data"
    }
   ],
   "source": [
    "plot_roc_curve(st_model,X_test_resampled,y_test_resampled)"
   ]
  },
  {
   "cell_type": "code",
   "execution_count": 494,
   "metadata": {},
   "outputs": [
    {
     "data": {
      "text/plain": [
       "0.641025641025641"
      ]
     },
     "execution_count": 494,
     "metadata": {},
     "output_type": "execute_result"
    }
   ],
   "source": [
    "roc_auc_score(y_test_resampled,y_st_pred_resampled)"
   ]
  },
  {
   "cell_type": "markdown",
   "metadata": {},
   "source": [
    "**Stacking Conclusion**\n",
    "\n",
    "- The `recall` score is 0.28;\n",
    "- The `roc_auc_score` is 0.64;"
   ]
  },
  {
   "cell_type": "markdown",
   "metadata": {},
   "source": [
    "#### 5.5 Model Conclusion"
   ]
  },
  {
   "cell_type": "markdown",
   "metadata": {},
   "source": [
    "Among the models, XGBoost Conclusion get the best score of roc_auc_score, but it gives low score of recall, and also, comparing the speed of RandomForest(40mins), LogisticRegression(5mins) XGBoost takes a couple of hours to get the result. Therefore, it is not suggested to use on production data."
   ]
  },
  {
   "cell_type": "markdown",
   "metadata": {},
   "source": [
    "**We recommend using RandomForest** as our best model for live data."
   ]
  },
  {
   "cell_type": "markdown",
   "metadata": {},
   "source": [
    "## 6. Model Pipeline"
   ]
  },
  {
   "cell_type": "markdown",
   "metadata": {},
   "source": [
    "**STEP 1: Resample Data** "
   ]
  },
  {
   "cell_type": "code",
   "execution_count": null,
   "metadata": {},
   "outputs": [],
   "source": [
    "ros = RandomOverSampler(random_state=42)\n",
    "\n",
    "X_train_resampled, y_train_resampled = ros.fit_resample(X_train, y_train)"
   ]
  },
  {
   "cell_type": "markdown",
   "metadata": {},
   "source": [
    "**STEP 2: Build Model** "
   ]
  },
  {
   "cell_type": "code",
   "execution_count": null,
   "metadata": {},
   "outputs": [],
   "source": [
    "grid_param = [{\"n_estimators\": [10,50,100],\n",
    "               \"max_depth\":[5,8,15,30,None],\n",
    "               \"min_samples_leaf\":[1,2,5,10,15],\n",
    "               \"max_leaf_nodes\": [2, 5,10]}]\n",
    "\n",
    "gridsearch = GridSearchCV(RandomForestClassifier(),grid_param,cv=5,verbose=0, n_jobs = -1)"
   ]
  },
  {
   "cell_type": "markdown",
   "metadata": {},
   "source": [
    "**STEP 3: Train Model** "
   ]
  },
  {
   "cell_type": "code",
   "execution_count": null,
   "metadata": {},
   "outputs": [],
   "source": [
    "model= gridsearch.fit(X_train_resampled,y_train_resampled)"
   ]
  },
  {
   "cell_type": "markdown",
   "metadata": {},
   "source": [
    "**STEP 4: Make Predict** "
   ]
  },
  {
   "cell_type": "code",
   "execution_count": null,
   "metadata": {},
   "outputs": [],
   "source": [
    "X_test_resampled, y_test_resampled = ros.fit_resample(X_test, y_test)"
   ]
  },
  {
   "cell_type": "code",
   "execution_count": null,
   "metadata": {},
   "outputs": [],
   "source": [
    "y_pred = model.predict(X_test_resampled)"
   ]
  },
  {
   "cell_type": "markdown",
   "metadata": {},
   "source": [
    "**STEP 5: Evaluate** "
   ]
  },
  {
   "cell_type": "code",
   "execution_count": null,
   "metadata": {},
   "outputs": [],
   "source": [
    "roc_auc_score(y_test_resampled,y_pred)"
   ]
  }
 ],
 "metadata": {
  "kernelspec": {
   "display_name": "Python 3",
   "language": "python",
   "name": "python3"
  },
  "language_info": {
   "codemirror_mode": {
    "name": "ipython",
    "version": 3
   },
   "file_extension": ".py",
   "mimetype": "text/x-python",
   "name": "python",
   "nbconvert_exporter": "python",
   "pygments_lexer": "ipython3",
   "version": "3.7.6"
  }
 },
 "nbformat": 4,
 "nbformat_minor": 4
}
